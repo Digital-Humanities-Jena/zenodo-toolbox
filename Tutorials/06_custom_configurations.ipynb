{
 "cells": [
  {
   "cell_type": "markdown",
   "metadata": {},
   "source": [
    "# Custom Configurations for Individual Projects\n",
    "\n",
    "## Introduction\n",
    "\n",
    "This notebook explores the use of YAML configuration files to streamline and customize Zenodo upload workflows and associated data management processes. By leveraging YAML configurations, we can create flexible, project-specific settings for various operations including:\n",
    "\n",
    "- Zenodo upload parameters\n",
    "- Local & Remote Database operations\n",
    "- Data mappings\n",
    "- Excel column handling\n",
    "- File processing routines (Image & 3D Model Operations)\n",
    "\n",
    "The goal is to develop adaptable workflows that can be easily modified for different projects or datasets without altering the core code.\n",
    "\n",
    "## Objectives\n",
    "\n",
    "In this notebook, we will:\n",
    "\n",
    "1. Introduce the structure and syntax of YAML configuration files\n",
    "2. Demonstrate how to load and parse YAML configurations in Python\n",
    "3. Apply custom configurations to Zenodo upload processes\n",
    "4. Explore examples of configuring database operations and data mappings\n",
    "5. Show how to use configurations for Excel column handling and file processing\n",
    "\n",
    "\n",
    "# Working with Configuration Files for Zenodo Uploads\n",
    "\n",
    "This notebook demonstrates how to use YAML configuration files to customize Zenodo upload workflows and associated data management processes.\n",
    "\n",
    "## Loading Configuration Files\n",
    "\n",
    "First, let's import the necessary libraries and load our configuration files.\n"
   ]
  },
  {
   "cell_type": "code",
   "execution_count": null,
   "metadata": {},
   "outputs": [],
   "source": [
    "import os\n",
    "from pathlib import Path\n",
    "\n",
    "os.chdir(Path().absolute().parent) if Path().absolute().name == \"Tutorials\" else None\n",
    "from db_tools import get_row, initialize_db, print_table, upsert_data\n",
    "from utilities import load_config, printJSON\n",
    "\n",
    "# Load example configuration files\n",
    "zenodo_config = load_config('Tutorials/Configs/zenodo.yaml')\n",
    "db_config = load_config('Tutorials/Configs/db_config.yaml')\n",
    "excel_config = load_config('Tutorials/Configs/excel_operations.yaml')\n",
    "\n",
    "if zenodo_config and db_config and excel_config:\n",
    "    print(\"Zenodo configuration loaded.\")\n"
   ]
  },
  {
   "cell_type": "markdown",
   "metadata": {},
   "source": [
    "## Understanding Configuration Structure\n",
    "\n",
    "Each of these example YAML files contains specific settings for different aspects of our workflow:\n",
    "\n",
    "1. `zenodo.yaml`: Contains Zenodo API settings and rate limits.\n",
    "2. `db_config.yaml`: Defines database configurations and table structures.\n",
    "3. `excel_processor.yaml`: Specifies Excel processing parameters and column mappings.\n",
    "\n",
    "Let's examine some key sections:"
   ]
  },
  {
   "cell_type": "code",
   "execution_count": null,
   "metadata": {},
   "outputs": [],
   "source": [
    "# Zenodo API settings\n",
    "print(\"(Selection) Zenodo API settings:\")\n",
    "printJSON(zenodo_config['main'])\n",
    "\n",
    "# Database connection settings\n",
    "print(\"\\n(Selection) Database connection settings:\")\n",
    "printJSON({k: v for k, v in db_config.items() if k not in ['db_structures']})\n",
    "\n",
    "# Excel column mappings\n",
    "print(\"\\n(Selection) Excel column mappings:\")\n",
    "printJSON(excel_config['column_mapping'])\n"
   ]
  },
  {
   "cell_type": "markdown",
   "metadata": {},
   "source": [
    "## Modifying Configurations (Temporary)\n",
    "\n",
    "You can modify these configurations to suit your project needs or — for testing purposes — temporarily.\n",
    "<br>For example, let's change the configuration to not use environment variables and set a custom access token, e.g. one that is read-only. Also, we will set the rate limits to more relaxed ones:\n"
   ]
  },
  {
   "cell_type": "code",
   "execution_count": null,
   "metadata": {},
   "outputs": [],
   "source": [
    "zenodo_config[\"main\"][\"use_env_api_key\"] = False\n",
    "zenodo_config[\"main\"][\"zenodo_sandbox_api_key\"] = \"123456789\"\n",
    "\n",
    "rates_ratio = int(zenodo_config[\"rates\"][\"per_hour\"] / zenodo_config[\"rates\"][\"per_minute\"])\n",
    "zenodo_config[\"rates\"][\"per_minute\"] = 25\n",
    "zenodo_config[\"rates\"][\"per_hour\"] = zenodo_config[\"rates\"][\"per_minute\"] * rates_ratio\n",
    "printJSON(zenodo_config)"
   ]
  },
  {
   "cell_type": "markdown",
   "metadata": {},
   "source": [
    "## Modifying Configuration Files\n",
    "\n",
    "Modyfing configurations in every script with the above method might be too repetitive and tedious, so the main advantage of YAML files is its human-readability and easy cross-script access.\n",
    "<br>Let's do the following:\n",
    "1) Modify the values by opening `zenodo.yaml` with your favorite text or code editor.\n",
    "2) Load the configuration again.\n",
    "3) Examine the changes.\n"
   ]
  },
  {
   "cell_type": "code",
   "execution_count": null,
   "metadata": {},
   "outputs": [],
   "source": [
    "# assume that you have changed the values\n",
    "zenodo_config = load_config(\"Tutorials/Configs/zenodo.yaml\")\n",
    "printJSON(zenodo_config)"
   ]
  },
  {
   "cell_type": "markdown",
   "metadata": {},
   "source": [
    "## Set Custom Database Parameters\n",
    "\n",
    "For better reproducibility, we will continue with temporarily set configurations in this Notebook.\n",
    "<br>Now that the most basic operations are known, we can explore advanced configurations, first by examining and modifying the table structure for 'states'. We will remove all other tables except 'records' and 'states', as foreign keys constraints are defined by default."
   ]
  },
  {
   "cell_type": "code",
   "execution_count": null,
   "metadata": {},
   "outputs": [],
   "source": [
    "# Load Configuration from File and print current Path\n",
    "db_config = load_config('Tutorials/Configs/db_config.yaml')\n",
    "print(f\"Local Database Path: {db_config['local_db_path']}\")\n",
    "\n",
    "# Set New Path\n",
    "db_config[\"local_db_path\"] = \"Tutorials/Output/new_states.sqlite\"\n",
    "print(f\"New Database Path: {db_config['local_db_path']}\\n\")\n",
    "\n",
    "# Print current Database Structure for 'states'\n",
    "print(\"Old Table Structure for 'states':\\n\")\n",
    "printJSON(db_config['db_structures']['tables'][3])\n",
    "\n",
    "# Set New Table Structures\n",
    "db_config[\"db_structures\"][\"tables\"] = []\n",
    "\n",
    "# records table must be created for this example due to foreign key constraints\n",
    "db_config[\"db_structures\"][\"tables\"].append({\n",
    "    \"records\": {\n",
    "        \"id\": \"INTEGER PRIMARY KEY AUTOINCREMENT\",\n",
    "        \"concept_recid\": \"TEXT NOT NULL UNIQUE\",\n",
    "        \"recid\": \"TEXT NOT NULL\",\n",
    "    }\n",
    "})\n",
    "\n",
    "db_config[\"db_structures\"][\"tables\"].append({\n",
    "    \"states\": {\n",
    "        \"id\": \"INTEGER PRIMARY KEY AUTOINCREMENT\",\n",
    "        \"concept_recid\": \"TEXT NOT NULL\",\n",
    "        \"recid\": \"TEXT NOT NULL\",\n",
    "        \"edit_mode_enabled\": \"BOOLEAN\", # change #1\n",
    "        \"draft_mode_enabled\": \"BOOLEAN\", # change #2\n",
    "        \"access_right\": \"TEXT NOT NULL\", # change #3\n",
    "        \"updated_at\": \"DATETIME DEFAULT CURRENT_TIMESTAMP\"\n",
    "    },\n",
    "    \"indexes\": [\n",
    "        \"recid\"\n",
    "    ]\n",
    "})\n",
    "\n",
    "# View Changes\n",
    "print(\"\\nNew Table Structure for 'states':\\n\")\n",
    "printJSON(db_config['db_structures']['tables'][0])"
   ]
  },
  {
   "cell_type": "markdown",
   "metadata": {},
   "source": [
    "## Initialize, Connect and Modify Database Structure\n",
    "\n",
    "Let's see if our modifications have been applied, initialize the database, connect, write and print a test entry:"
   ]
  },
  {
   "cell_type": "code",
   "execution_count": null,
   "metadata": {},
   "outputs": [],
   "source": [
    "db_connection = initialize_db(custom_cfg = db_config)\n",
    "\n",
    "new_data = {\n",
    "    \"concept_recid\": \"123456\",\n",
    "    \"recid\": \"123457\",\n",
    "    \"edit_mode_enabled\": False,\n",
    "    \"draft_mode_enabled\": True,\n",
    "    \"access_right\": \"restricted\"\n",
    "}\n",
    "\n",
    "if db_connection:\n",
    "    print(f\"Database created: {db_config['local_db_path']}\")\n",
    "    if not get_row(db_connection, \"records\", \"concept_recid\", \"123456\"):\n",
    "        success_0 = upsert_data(\n",
    "            connection=db_connection, \n",
    "            table_name=\"records\", \n",
    "            data={\"concept_recid\": \"123456\", \"recid\": \"123456\"}, \n",
    "            primary_key=\"concept_recid\", \n",
    "            primary_key_value=\"123456\"\n",
    "        )\n",
    "        \n",
    "        success_1 = upsert_data(\n",
    "            connection=db_connection, \n",
    "            table_name=\"states\", \n",
    "            data=new_data, \n",
    "            primary_key=\"concept_recid\", \n",
    "            primary_key_value=\"123456\"\n",
    "        )\n",
    "        \n",
    "        print(\"\\nUpsert operation successful\")\n",
    "\n",
    "    if success_0 and success_1:\n",
    "        print(\"\\nrecords:\")\n",
    "        print_table(db_connection, \"records\", \"123456\")\n",
    "        print(\"\\nstates:\")\n",
    "        print_table(db_connection, \"states\", \"123456\")\n",
    "    else:\n",
    "        print(\"Upsert operation failed.\")\n",
    "        \n",
    "db_connection.close()"
   ]
  },
  {
   "cell_type": "markdown",
   "metadata": {},
   "source": [
    "## What's Next\n",
    "\n",
    "We will continue to use configurations in order to understand and apply mappings in upcoming notebooks!\n",
    "<br>This is especially useful for Excel file processing or mappings to various datamodels, like the Europeana Data Model (EDM).\n",
    "\n",
    "<br>\n",
    "By using YAML configuration files, you can easily customize your Zenodo upload workflows and associated processes without changing your core code. This approach provides flexibility and makes it simpler to manage different project settings.\n",
    "\n",
    "<br>Remember to update your YAML files when you need to change settings, and always load the latest configurations in your scripts to ensure you're using the most up-to-date parameters.\n"
   ]
  }
 ],
 "metadata": {
  "kernelspec": {
   "display_name": "Python 3",
   "language": "python",
   "name": "python3"
  },
  "language_info": {
   "codemirror_mode": {
    "name": "ipython",
    "version": 3
   },
   "file_extension": ".py",
   "mimetype": "text/x-python",
   "name": "python",
   "nbconvert_exporter": "python",
   "pygments_lexer": "ipython3",
   "version": "3.10.14"
  }
 },
 "nbformat": 4,
 "nbformat_minor": 4
}
