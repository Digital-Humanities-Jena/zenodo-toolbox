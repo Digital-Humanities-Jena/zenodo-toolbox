{
 "cells": [
  {
   "cell_type": "markdown",
   "metadata": {},
   "source": [
    "# 3D Model Operations\n",
    "\n",
    "In this notebook we will focus on extracting metadata from 3D models, converting them to GLB with materials and rendering thumbnails from multiple perspectives.\n",
    "<br>An example model is provided in Tutorials/3DModels, consisting of OBJ, MTL and texture files."
   ]
  },
  {
   "cell_type": "markdown",
   "metadata": {},
   "source": [
    "## Validate & Extract Metadata\n",
    "\n",
    "Let's start with validating the OBJ model file and extracting its Metadata.\n",
    "As you might know, OBJ files contain various information, which can be inspected using a simple text editor.\n",
    "\n",
    "OBJ files, being plain text files, store a wealth of information about 3D models. Here's an overview of the key metadata that can be extracted:\n",
    "\n",
    "- **Geometric Vertices**:\n",
    "  - Prefixed with 'v' || Represent 3D coordinates (x, y, z) of each vertex in the model\n",
    "- **Texture Coordinates**:\n",
    "  - Prefixed with 'vt' || Define 2D coordinates (u, v) for texture mapping\n",
    "- **Vertex Normals**:\n",
    "  - Prefixed with 'vn' || Specify normal vectors for vertices, crucial for shading\n",
    "- **Parameter Space Vertices**:\n",
    "  - Prefixed with 'vp' || Used in curve or surface geometry\n",
    "- **Faces**:\n",
    "  - Prefixed with 'f' || Define polygons using vertex indices\n",
    "- **Object Names**:\n",
    "  - Prefixed with 'o' || Identify distinct objects within the file\n",
    "- **Group Names**:\n",
    "  - Prefixed with 'g' || Organize faces into named groups\n",
    "- **Smoothing Groups**:\n",
    "  - Prefixed with 's' || Control shading across faces\n",
    "- **Material Libraries**:\n",
    "  - Prefixed with 'mtllib' || Reference external material definition files\n",
    "- **Material Names**:\n",
    "  - Prefixed with 'usemtl' || Assign materials to subsequent faces\n",
    "- **Comments**:\n",
    "  - Prefixed with '#' || Provide additional information or annotations\n",
    "\n",
    "By extracting this metadata, we can gain insights into the model's structure, appearance, and organization. This information is valuable for various 3D processing tasks, including validation, modification, and conversion to other formats."
   ]
  },
  {
   "cell_type": "code",
   "execution_count": null,
   "metadata": {},
   "outputs": [],
   "source": [
    "import os\n",
    "from pathlib import Path\n",
    "os.chdir(Path().absolute().parent) if Path().absolute().name == \"Tutorials\" else None\n",
    "\n",
    "from file_validator import validate_file\n",
    "from model_tools import convert_OBJ_to_GLB, extract_mtl_metadata, extract_obj_statistics, render_model_thumbnails\n",
    "from utilities import printJSON, search_file\n",
    "\n",
    "# Define OBJ Model Filepath\n",
    "obj_filepath = Path(\"Tutorials/3DModels/test_model.obj\")\n",
    "\n",
    "# Extract Statistics\n",
    "obj_stats = extract_obj_statistics(obj_filepath)\n",
    "\n",
    "# Print Extracted Results\n",
    "for key, value in obj_stats.items():\n",
    "    print(f\"{key.replace('_', ' ').title()}: {value}\")"
   ]
  },
  {
   "cell_type": "markdown",
   "metadata": {},
   "source": [
    "#### Extract Material Metadata\n",
    "In addition to the Metadata we might add to our Zenodo Record, the `extract_obj_statistics` provides data that we can use in our validation process, e.g. to check if all linked material and texture files are available.\n",
    "<br>As we can see, a MTL file is mentioned in `Material Libraries`, which we will now find in order to extract its metadata as well for further validation processes:"
   ]
  },
  {
   "cell_type": "code",
   "execution_count": null,
   "metadata": {},
   "outputs": [],
   "source": [
    "mtl_metadata = extract_mtl_metadata(obj_filepath, obj_stats)\n",
    "\n",
    "if mtl_metadata:\n",
    "    print(f\"Number of materials: {len(mtl_metadata['materials'])}\")\n",
    "    print(f\"Referenced Textures Paths:\")\n",
    "    printJSON(mtl_metadata['textures'])\n",
    "    \n",
    "    # Print details of each material\n",
    "    for material in mtl_metadata['materials']:\n",
    "        print(f\"\\nMaterial Name: {material['name']}\")\n",
    "        print(\"Linked Textures:\")\n",
    "        printJSON(material['textures'])\n",
    "else:\n",
    "    print(\"Failed to extract MTL metadata.\")"
   ]
  },
  {
   "cell_type": "markdown",
   "metadata": {},
   "source": [
    "Let's try to find the referenced texture files and validate them as well:"
   ]
  },
  {
   "cell_type": "code",
   "execution_count": null,
   "metadata": {},
   "outputs": [],
   "source": [
    "search_dir = Path(\"Tutorials/3DModels\")\n",
    "for texture_path in mtl_metadata['textures']:\n",
    "    filename, ext = Path(texture_path).name, Path(texture_path).suffix\n",
    "    found = search_file(filename, search_dir, [ext], search_subdirectories=True)\n",
    "    if found:\n",
    "        print(f\"'{texture_path}' -> {str(found)}\")\n",
    "        validation_errors = validate_file(found)\n",
    "        if validation_errors:\n",
    "            print(f\"File is invalid!: {validation_errors}\")\n",
    "        else:\n",
    "            print(\"-- Validated\")\n",
    "    else:\n",
    "        print(f\"Texture not found!: '{texture_path}'\")"
   ]
  },
  {
   "cell_type": "markdown",
   "metadata": {},
   "source": [
    "### Convert OBJ, MTL and Textures to GLB\n",
    "\n",
    "Now that we are sure that all referenced materials and textures are available and valid, we can convert everything into one GLB file. This has multiple advantages:\n",
    "\n",
    "1. **Consolidation**: GLB (Binary glTF) combines geometry, materials, textures, and animations into a single binary file, simplifying asset management and distribution.\n",
    "\n",
    "2. **Compression**: GLB files are typically smaller than the sum of their OBJ, MTL, and texture components, reducing storage requirements and improving load times.\n",
    "\n",
    "3. **Wide Compatibility**: GLB is widely supported across various 3D platforms, game engines, and web browsers, enhancing portability and ease of use.\n",
    "\n",
    "4. **Standardization**: As part of the glTF 2.0 specification, GLB follows a well-defined standard, ensuring consistent interpretation across different software and platforms.\n",
    "\n",
    "5. **Efficient Rendering**: GLB files are optimized for real-time rendering, making them ideal for interactive 3D applications and WebGL-based visualizations.\n",
    "\n",
    "6. **Metadata Support**: GLB allows for the inclusion of custom metadata, which can be useful for preserving information about the model's origin, authorship, or other relevant details.\n",
    "\n",
    "7. **Texture Embedding**: All textures are embedded within the GLB file, eliminating the need to manage multiple separate image files.\n",
    "\n",
    "8. **Animation Support**: If the original model includes animations, these can be preserved and efficiently encoded in the GLB format.\n",
    "\n",
    "9. **PBR Material Support**: GLB supports Physically Based Rendering (PBR) materials, allowing for more realistic and consistent material representations across different rendering engines.\n",
    "\n",
    "10. **Future-Proofing**: As a modern and actively maintained format, GLB is likely to have continued support and improvements, making it a good choice for long-term asset preservation.\n",
    "\n",
    "<br>\n",
    "By converting our OBJ model and its associated files to GLB, we create a more robust, portable, and efficient 3D asset that's ready for a wide range of applications and platforms.\n",
    "The function `convert_OBJ_to_GLB` is able to handle searching for textures, which we have done manually in the above code cell.\n",
    "\n",
    "We will additionally extract the GLB Metadata to see how it looks like, and if there are any divergences with the OBJ/MTL Metadata."
   ]
  },
  {
   "cell_type": "code",
   "execution_count": null,
   "metadata": {},
   "outputs": [],
   "source": [
    "# Convert OBJ + Materials/Textures to GLB\n",
    "glb_path = convert_OBJ_to_GLB(obj_filepath, search_textures=True)\n",
    "assert glb_path, f\"Failed to convert to GLB\"\n",
    "\n",
    "# Extract GLB Metadata\n",
    "from model_tools import extract_glb_metadata\n",
    "glb_metadata = extract_glb_metadata(glb_path)\n",
    "print(\"GLB Metadata:\")\n",
    "printJSON(glb_metadata)"
   ]
  },
  {
   "cell_type": "markdown",
   "metadata": {},
   "source": [
    "### Render Model Thumbnails\n",
    "\n",
    "By utilizing the [Blender Python API](https://docs.blender.org/api/current/index.html), we are able to render Thumbnails with lots of possibilities regarding settings, artificial lights etc.\n",
    "<br>The function `render_model_thumbnails` is designed to always center the object/scene, and to alter the point of camera view in a logical way.\n",
    "\n",
    "Let's try to render three thumbnails for our test model:"
   ]
  },
  {
   "cell_type": "code",
   "execution_count": null,
   "metadata": {},
   "outputs": [],
   "source": [
    "render_model_thumbnails(glb_path, num_perspectives=3, include_top_perspective=False, \n",
    "                        resolution=1000, use_gpu=False, resize=False)"
   ]
  },
  {
   "cell_type": "markdown",
   "metadata": {},
   "source": [
    "### Key Parameters\n",
    "\n",
    "Now, it is your turn to explore the function and modify the parameters, here are some explanations:\n",
    "\n",
    "**Perspective Control**:\n",
    "- `num_perspectives`: Number of side views to render (default: 4)\n",
    "- `include_top_perspective`: Whether to include a top-down view (default: True)\n",
    "\n",
    "**Camera Settings**:\n",
    "- `camera_distance_factor`: Multiplier for camera distance from the object (default: 2.0)\n",
    "  - Higher values place the camera further from the object\n",
    "\n",
    "**Lighting**:\n",
    "- `light_type`: Type of light source (default: \"SUN\")\n",
    "- `light_energy`: Intensity of the light (default: 5.0)\n",
    "- `light_angle`: Angle of the light in degrees (default: 112.0)\n",
    "  - For \"SUN\" type, this affects the softness of shadows\n",
    "\n",
    "**Render Quality**:\n",
    "- `resolution`: Size of the rendered image in pixels (default: 1000)\n",
    "- `samples`: Number of samples for rendering (default: 128)\n",
    "  - Higher values increase quality but also render time\n",
    "\n",
    "**GPU Rendering**:\n",
    "- `use_gpu`: Whether to use GPU for rendering (default: False)\n",
    "- `gpu_device_type`: GPU computation type (default: \"CUDA\")\n",
    "\n",
    "**Post-processing**:\n",
    "- `resize`: Whether to create smaller versions of the render (default: False)\n",
    "- `resize_dimensions`: List of sizes for resized images (default: [512, 256, 128])\n",
    "\n",
    "#### Perspective Calculation\n",
    "- **Side Views**: Evenly spaced around object (e.g., 0°, 90°, 180°, 270° for 4 views)\n",
    "- **Top View**: Directly above object center (optional)\n",
    "- **Camera Angle**: 60° downward for side views, 90° for top view\n",
    "- **Positioning**: Based on object's bounding box and `camera_distance_factor`\n",
    "- **Light**: Placed at camera position for consistent illumination\n"
   ]
  }
 ],
 "metadata": {
  "kernelspec": {
   "display_name": "Python 3",
   "language": "python",
   "name": "python3"
  },
  "language_info": {
   "codemirror_mode": {
    "name": "ipython",
    "version": 3
   },
   "file_extension": ".py",
   "mimetype": "text/x-python",
   "name": "python",
   "nbconvert_exporter": "python",
   "pygments_lexer": "ipython3",
   "version": "3.10.13"
  }
 },
 "nbformat": 4,
 "nbformat_minor": 4
}
