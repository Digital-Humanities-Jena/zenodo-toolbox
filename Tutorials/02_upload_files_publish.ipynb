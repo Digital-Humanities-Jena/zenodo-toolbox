{
 "cells": [
  {
   "cell_type": "markdown",
   "metadata": {},
   "source": [
    "# Zenodo Toolbox: Upload Files and Publish Record (Sandbox)\n",
    "\n",
    "This notebook demonstrates how to use the Zenodo Toolbox to upload files to a draft record and then publish it on the Zenodo Sandbox. This process simulates the complete data submission workflow in a safe testing environment.\n",
    "\n",
    "The publishing process in the Zenodo Sandbox involves several key steps:\n",
    "\n",
    "1. **Creating a Draft**: This is what we did in the previous notebook. It establishes a new deposition with your metadata in the Sandbox environment.\n",
    "\n",
    "2. **Uploading Files**: In this step, you add your test files to the draft deposition in the Sandbox.\n",
    "\n",
    "3. **Publishing**: Once you're satisfied with your metadata and uploaded files, you publish the deposition in the Sandbox. This action:\n",
    "   - Finalizes the record\n",
    "   - Assigns a test DOI (Digital Object Identifier)\n",
    "   - Simulates making the record publicly accessible\n",
    "\n",
    "While records published in the Sandbox are not persistent, this helps in understanding the process and outcome of publishing records on the main Zenodo platform.\n",
    "\n",
    "### What We'll Cover\n",
    "\n",
    "In this notebook, we will:\n",
    "\n",
    "1. **Connect to an Existing Draft**: We'll use the response data from our previously created draft on Sandbox Zenodo.\n",
    "\n",
    "2. **Upload Files**: We'll demonstrate how to upload a test image to your draft record.\n",
    "\n",
    "3. **Publish the Record**: We'll publish the record in the Sandbox, simulating the official publication process.\n",
    "\n",
    "4. **Review the Published Record**: We'll examine the response to confirm successful publication and retrieve important information about the published record in the Sandbox.\n",
    "\n",
    "\n",
    "Before proceeding, ensure that you have completed the \"Create a Record\" notebook using the Zenodo Sandbox and have saved its response data as a JSON. Let's begin by setting up our environment and loading the previous response data."
   ]
  },
  {
   "cell_type": "code",
   "execution_count": null,
   "metadata": {},
   "outputs": [],
   "source": [
    "import os\n",
    "from pathlib import Path\n",
    "\n",
    "os.chdir(Path().absolute().parent) if Path().absolute().name == \"Tutorials\" else None\n",
    "from main_functions import delete_files_in_draft, publish_record, upload_files_into_deposition\n",
    "from utilities import append_to_json, load_json, printJSON, write_json\n",
    "\n",
    "# Initial Configuration, see Notebook #01 for other configurations\n",
    "ZENODO_BASE_URL = \"https://sandbox.zenodo.org\"\n",
    "ZENODO_API_KEY = os.environ.get(\"ZENODO_SANDBOX_API_KEY\")\n",
    "HEADERS = {\"Content-Type\": \"application/json\"}\n",
    "PARAMS = {\"access_token\": ZENODO_API_KEY}\n",
    "\n",
    "# Load the draft data from the JSON file\n",
    "draft_data = load_json(\"Tutorials/Output/sandbox_drafts.json\")[-1]  # catches the latest response data\n",
    "\n",
    "# Extract necessary link from the draft data to upload files\n",
    "bucket_url = draft_data['links']['bucket']\n",
    "\n",
    "# Define filepaths to the files that shall be uploaded\n",
    "filepaths = [\"Tutorials/Images/test_image.png\", \"Tutorials/Images/test_image_2.png\"]\n",
    "\n",
    "# Upload Files and retrieve Response\n",
    "fileupload_msg, fileupload_data = upload_files_into_deposition(draft_data, filepaths, replace_existing=True)\n",
    "\n",
    "# Print the resulting response\n",
    "print(\"\\nResponse of Fileupload to Zenodo Sandbox:\")\n",
    "printJSON(fileupload_data)\n",
    "\n",
    "if fileupload_msg[\"success\"] and fileupload_data:\n",
    "    append_to_json(fileupload_data, \"Tutorials/Output/sandbox_files.json\")\n",
    "    print(\"\\nFiles successfully uploaded! Response Data saved to: ./Tutorials/Output/sandbox_files.json\")\n",
    "    [print(f\"\\nDirect Link to {i['filename']}: {i['links']['download'].replace('/files', '/draft/files')}\") for i in fileupload_data]\n",
    "else:\n",
    "    print(\"\\nFailed to upload Files. Please check the error message above or in fileupload_msg['text']:\")\n",
    "    print(fileupload_msg[\"text\"])"
   ]
  },
  {
   "cell_type": "markdown",
   "metadata": {},
   "source": [
    "### Delete Files in Draft\n",
    "\n",
    "Now, if you would want to repeat the above operation, you will receive a 400 response code, as the filenames are already existing in the deposit. To solve this, you can provide the previously retrieved response of the fileupload to delete the uploaded files.\n",
    "\n",
    "<small>\n",
    "\n",
    "Note: If a new version of a Record is created, not a completely new Record, the files response can be acquired by `response_data[\"files\"]`.\n",
    "\n",
    "</small>"
   ]
  },
  {
   "cell_type": "code",
   "execution_count": null,
   "metadata": {},
   "outputs": [],
   "source": [
    "fileupload_data = load_json(\"Tutorials/Output/sandbox_files.json\")[-1] # load latest fileupload data\n",
    "delete_msg, delete_data = delete_files_in_draft(fileupload_data) # delete files in draft\n",
    "if delete_msg[\"success\"]:\n",
    "    print(f\"Files successfully deleted from draft: {' | '.join(file['filename'] for file in fileupload_data)}\")\n",
    "else:\n",
    "    print(\"\\nFailed to delete files from draft. Please check the error messages:\")\n",
    "    print(delete_msg[\"text\"])"
   ]
  },
  {
   "cell_type": "markdown",
   "metadata": {},
   "source": [
    "After executing the above operation, the deposit should be empty again. Without any files in the deposit, you can not publish your Record, so upload them again:"
   ]
  },
  {
   "cell_type": "code",
   "execution_count": null,
   "metadata": {},
   "outputs": [],
   "source": [
    "fileupload_msg, fileupload_data = upload_files_into_deposition(draft_data, filepaths, replace_existing=True)\n",
    "\n",
    "print(\"\\nResponse of Fileupload to Zenodo Sandbox:\")\n",
    "printJSON(fileupload_data)\n",
    "\n",
    "if fileupload_msg[\"success\"] and fileupload_data:\n",
    "    append_to_json(fileupload_data, \"sandbox_files.json\")\n",
    "    print(\"\\nFiles successfully uploaded! Response Data saved to: sandbox_files.json\")\n",
    "    [print(f\"\\nDirect Link to {i['filename']}: {i['links']['download'].replace('/files', '/draft/files')}\") for i in fileupload_data]\n",
    "else:\n",
    "    print(\"\\nFailed to upload Files. Please check the error message above or in fileupload_msg['text']:\")\n",
    "    print(fileupload_msg[\"text\"])"
   ]
  },
  {
   "cell_type": "markdown",
   "metadata": {},
   "source": [
    "If everything went fine, you should now be able to view the resulting file response in [sandbox_files.json](Output/sandbox_files.json)."
   ]
  },
  {
   "cell_type": "markdown",
   "metadata": {},
   "source": [
    "### Publish Record\n",
    "\n",
    "Now that we have uploaded our files to the draft record, we're ready to publish it on the Zenodo Sandbox. Publishing the record will finalize it, assign a test DOI, and simulate making the record publicly accessible.\n",
    "\n",
    "Let's use the `publish_record` function to publish our draft:"
   ]
  },
  {
   "cell_type": "code",
   "execution_count": null,
   "metadata": {},
   "outputs": [],
   "source": [
    "# Publish the record\n",
    "publish_msg, publish_data = publish_record(draft_data)\n",
    "\n",
    "if publish_msg[\"success\"]:\n",
    "    print(\"Record successfully published!\")\n",
    "    print(f\"DOI: {publish_data['doi']}\")\n",
    "    print(f\"Record URL: {publish_data['links']['record_html']}\")\n",
    "    \n",
    "    # Save the published record data\n",
    "    append_to_json(publish_data, \"Tutorials/Output/sandbox_published.json\")\n",
    "    print(\"Published record data saved to: Tutorials/Output/sandbox_published.json\")\n",
    "else:\n",
    "    print(\"Failed to publish record. Error message:\")\n",
    "    print(publish_msg[\"text\"])"
   ]
  },
  {
   "cell_type": "markdown",
   "metadata": {},
   "source": [
    "### Review Published Record\n",
    "After successfully publishing the record, you should be able to view the result in [sandbox_published.json](Output/sandbox_published.json). Let's review some key information about our newly published record in the Zenodo Sandbox:\n",
    "\n",
    "<small>\n",
    "\n",
    "Note: To retrieve the correct direct link to the files, '/draft' must be removed from the response in `published_data['files'][n]['links']['download']`. For some reason, it returns the draft link only, even if published.\n",
    "\n",
    "</small>"
   ]
  },
  {
   "cell_type": "code",
   "execution_count": null,
   "metadata": {},
   "outputs": [],
   "source": [
    "# Load the published record data\n",
    "published_data = load_json(\"Tutorials/Output/sandbox_published.json\")[-1] # Note: Index was set to the latest response here.\n",
    "\n",
    "print(\"Published Record Information:\")\n",
    "print(f\"Title: {published_data['metadata']['title']}\")\n",
    "print(f\"DOI: {published_data['doi']}\")\n",
    "print(f\"Record URL: {published_data['links']['record_html']}\")\n",
    "print(\"\\nFiles in the published record:\")\n",
    "for file in published_data['files']:\n",
    "    print(f\"- {file['filename']} (Size: {int(file['filesize']) / (1024 * 1024):.2f} MB): {file['links']['download'].replace('/draft', '')}\")\n",
    "\n",
    "print(\"\\nMetadata:\")\n",
    "for key, value in published_data['metadata'].items():\n",
    "    if key not in ['title', 'doi']:\n",
    "        print(f\"- {key}: {value}\")\n"
   ]
  },
  {
   "cell_type": "markdown",
   "metadata": {},
   "source": [
    "This completes the process of creating a draft, uploading files, and publishing a record on the Zenodo Sandbox. You can now view your record published in the Sandbox using the printed link. Remember that records published in the Sandbox are not persistent and are meant for testing purposes only. When you're ready to publish real data, you'll use the main Zenodo platform with a similar workflow.\n"
   ]
  },
  {
   "cell_type": "markdown",
   "metadata": {},
   "source": [
    "## Understanding Zenodo Record Concepts\n",
    "\n",
    "When working with Zenodo, it's important to understand several key concepts related to record identification, versioning, and persistent identifiers:\n",
    "\n",
    "### Record Identifiers\n",
    "\n",
    "1. **Record ID**: A unique numerical identifier assigned to each individual version of a record in Zenodo. It changes with each new version.\n",
    "\n",
    "2. **Concept Record ID**: A persistent identifier that represents all versions of a record. It remains constant across different versions.\n",
    "\n",
    "### Digital Object Identifiers (DOIs)\n",
    "\n",
    "3. **DOI (Digital Object Identifier)**: A persistent identifier assigned to each specific version of a record. It changes with each new version.\n",
    "\n",
    "4. **Concept DOI**: A persistent identifier that represents all versions of a record. It remains constant and always resolves to the latest version.\n",
    "\n",
    "### Versioning\n",
    "\n",
    "1. **Versions**: Zenodo allows you to create new versions of a record while maintaining links between different versions. Each version gets a new Record ID and DOI, but shares the same Concept Record ID and Concept DOI. The main idea is to persistently maintain the availability of research data in the exact version it was cited.\n",
    "\n",
    "### Other Important Concepts\n",
    "\n",
    "6. **Communities**: Collections of records in Zenodo, often organized around specific topics or projects. Records can belong to multiple communities.\n",
    "\n",
    "7. **Embargo**: A feature that allows you to restrict access to files in a record for a specified period.\n",
    "\n",
    "8. **Restricted Access**: The ability to limit access to certain files or entire records to specific users or groups.\n",
    "\n",
    "9. **Metadata**: Descriptive information about the record, including title, authors, description, and more. It's crucial for discoverability and proper citation.\n",
    "\n",
    "10. **License**: The terms under which the record's content is made available. Zenodo supports various open licenses and rights statements.\n",
    "\n",
    "11. **Sandbox**: A testing environment that mimics the main Zenodo platform, allowing users to experiment with uploads and workflows without creating permanent records.\n",
    "\n",
    "Understanding these concepts is crucial for effectively managing and sharing research outputs on Zenodo, ensuring proper versioning, citation, and access control for your records.\n"
   ]
  },
  {
   "cell_type": "markdown",
   "metadata": {},
   "source": [
    "## What Next?\n",
    "\n",
    "Congratulations on completing the basic workflow for creating, uploading, and publishing a record on Zenodo Sandbox! In the upcoming notebooks, we'll explore more advanced features and operations to enhance your Zenodo workflow:\n",
    "\n",
    "1. **Database Integration**: Learn how to keep track of your Zenodo records using local or remote databases for improved management and retrieval.\n",
    "\n",
    "2. **Versioning, Communities and Advanced Descriptions**: Discover techniques for updating existing records and creating new versions to maintain a clear history of your datasets.\n",
    "\n",
    "3. **Batch Operations**: Explore how to process Excel files for efficient batch uploads, streamlining the submission of multiple records.\n",
    "\n",
    "4. **Image Processing**:\n",
    "   - Implement person masking using detector and segmentation models for privacy protection.\n",
    "   - Apply image scaling techniques for consistent file sizes.\n",
    "   - Extract and utilize EXIF metadata from images.\n",
    "\n",
    "5. **3D Model Handling**:\n",
    "   - Generate thumbnails for 3D models to provide quick visual references.\n",
    "   - Convert 3D models to the GLB format for better compatibility.\n",
    "   - Apply model reduction techniques for various retrieval cases.\n",
    "\n",
    "These advanced topics will help you create more sophisticated and efficient workflows for managing your research data on Zenodo.\n"
   ]
  }
 ],
 "metadata": {
  "kernelspec": {
   "display_name": "Python 3",
   "language": "python",
   "name": "python3"
  },
  "language_info": {
   "codemirror_mode": {
    "name": "ipython",
    "version": 3
   },
   "file_extension": ".py",
   "mimetype": "text/x-python",
   "name": "python",
   "nbconvert_exporter": "python",
   "pygments_lexer": "ipython3",
   "version": "3.10.14"
  }
 },
 "nbformat": 4,
 "nbformat_minor": 4
}
