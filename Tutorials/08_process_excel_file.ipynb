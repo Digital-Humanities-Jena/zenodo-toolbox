{
 "cells": [
  {
   "cell_type": "markdown",
   "metadata": {},
   "source": [
    "# Excel File and Batch Processing\n",
    "\n"
   ]
  },
  {
   "cell_type": "code",
   "execution_count": null,
   "metadata": {},
   "outputs": [],
   "source": [
    "from IPython.display import HTML\n",
    "import os\n",
    "from pathlib import Path\n",
    "\n",
    "os.chdir(Path().absolute().parent) if Path().absolute().name == \"Tutorials\" else None\n",
    "\n",
    "from db_tools import initialize_db, print_table\n",
    "from excel_tools import construct_description, construct_title, construct_zenodo_metadata, excel_to_dataframe, get_mapped_entry\n",
    "from file_validator import validate_file\n",
    "from geo_utilities import retrieve_coordinates\n",
    "from main_functions import create_record, publish_record, upload_files_into_deposition\n",
    "from utilities import append_image_metadata_to_description, get_filetype, get_image_metadata, identify_dates_in_exif, load_config, printJSON, search_file, validate_zenodo_metadata, write_json\n",
    "\n",
    "config_excel = load_config(\"Tutorials/Configs/excel_operations.yaml\")\n",
    "excel_path = \"Tutorials/Excel/tutorial.xlsx\"\n",
    "excel_df = excel_to_dataframe(excel_path)\n",
    "excel_df # view the loaded data"
   ]
  },
  {
   "cell_type": "markdown",
   "metadata": {},
   "source": [
    "### Column Data Mapping\n",
    "\n",
    "Now we will use the configuration to map the column headers to certain variables that will be used to create valid Zenodo metadata: "
   ]
  },
  {
   "cell_type": "code",
   "execution_count": null,
   "metadata": {},
   "outputs": [],
   "source": [
    "print(\"-- Old Mapping:\")\n",
    "printJSON(config_excel[\"column_mapping\"])\n",
    "\n",
    "config_excel[\"column_mapping\"][\"file name\"] = \"FileName\"\n",
    "config_excel[\"column_mapping\"][\"Sublocation\"] = \"Location_0\"\n",
    "config_excel[\"column_mapping\"][\"location\"] = \"Location_1\"\n",
    "config_excel[\"column_mapping\"][\"province\"] = \"Location_2\"\n",
    "config_excel[\"column_mapping\"][\"country\"] = \"Location_3\"\n",
    "config_excel[\"column_mapping\"][\"header\"] = \"Titles\"\n",
    "config_excel[\"column_mapping\"][\"author, email address\"] = \"E-Mail\"\n",
    "\n",
    "print(\"\\n-- New Mapping:\")\n",
    "printJSON(config_excel[\"column_mapping\"])"
   ]
  },
  {
   "cell_type": "markdown",
   "metadata": {},
   "source": [
    "If you change keys that are essential for the process of creating Zenodo Metadata, you should modify the `column_basevalues` in the configuration accordingly.\n",
    "\n",
    "<br>Let's assume you wanted to map the following column headers:\n",
    "- author -> Initiator\n",
    "- copyright -> RightsHolder\n",
    "- description -> Content\n",
    "- keywords -> Tags"
   ]
  },
  {
   "cell_type": "code",
   "execution_count": null,
   "metadata": {},
   "outputs": [],
   "source": [
    "config_excel[\"column_mapping\"][\"author\"] = \"Initiator\"\n",
    "config_excel[\"column_mapping\"][\"copyright\"] = \"RightsHolder\"\n",
    "config_excel[\"column_mapping\"][\"description\"] = \"Content\"\n",
    "config_excel[\"column_mapping\"][\"keywords\"] = \"Tags\"\n",
    "\n",
    "config_excel[\"column_basevalues\"][\"author\"] = \"Initiator\"\n",
    "config_excel[\"column_basevalues\"][\"copyright\"] = \"RightsHolder\"\n",
    "config_excel[\"column_basevalues\"][\"description\"] = \"Content\"\n",
    "config_excel[\"column_basevalues\"][\"keywords\"] = \"Tags\"\n",
    "printJSON(config_excel[\"column_basevalues\"])"
   ]
  },
  {
   "cell_type": "markdown",
   "metadata": {},
   "source": [
    "Now, we will use the function `get_mapped_entry`:\n",
    "<br>Based on the configuration, it processes strings in data fields and returns the mapped row data. With the second (`int`) argument, you can define the desired row:"
   ]
  },
  {
   "cell_type": "code",
   "execution_count": null,
   "metadata": {},
   "outputs": [],
   "source": [
    "config_excel[\"settings\"][\"split_keywords\"] = True\n",
    "config_excel[\"settings\"][\"split_description\"] = False\n",
    "\n",
    "mapped_row_data = get_mapped_entry(excel_df, 0, config_excel)\n",
    "printJSON(mapped_row_data)"
   ]
  },
  {
   "cell_type": "markdown",
   "metadata": {},
   "source": [
    "Let's check the Value of \"Content\", which is a string containing three levels of information separated by periods.\n",
    "<br>If we would like to split it into a list of three strings, we can define it like this:"
   ]
  },
  {
   "cell_type": "code",
   "execution_count": null,
   "metadata": {},
   "outputs": [],
   "source": [
    "config_excel[\"settings\"][\"split_description\"] = True\n",
    "config_excel[\"misc\"][\"split_characters\"][\"description\"] = [\".\"]\n",
    "\n",
    "mapped_row_data = get_mapped_entry(excel_df, 0, config_excel)\n",
    "printJSON(mapped_row_data)"
   ]
  },
  {
   "cell_type": "markdown",
   "metadata": {},
   "source": [
    "Exceptions which shall be ignored, like 'Mrs.', 'Str.' or 'ex.', can be defined in:\n",
    "<br>`config_excel['misc']['split_exceptions']['...']`."
   ]
  },
  {
   "cell_type": "markdown",
   "metadata": {},
   "source": [
    "### Mapping of Zenodo Metadata\n",
    "\n",
    "Now that we have learned how to map and process Data coming from the Excel File, we should now start to map it to the Zenodo Metadata. We can use the configuration for that:"
   ]
  },
  {
   "cell_type": "code",
   "execution_count": null,
   "metadata": {},
   "outputs": [],
   "source": [
    "printJSON(config_excel[\"zenodo_metadata\"])"
   ]
  },
  {
   "cell_type": "markdown",
   "metadata": {},
   "source": [
    "These are the default Zenodo Metadata values, while the other values will be added dynamically, e.g. locations, dates, title, description etc.\n",
    "<br>It's being handled automatically by the function `construct_zenodo_metadata`, but there are lots of possibilities to get the desired output.\n",
    "\n",
    "#### Construct Title\n",
    "Let's start with the **Title Constructor**:"
   ]
  },
  {
   "cell_type": "code",
   "execution_count": null,
   "metadata": {},
   "outputs": [],
   "source": [
    "data = mapped_row_data\n",
    "\n",
    "# Change the constructor values, according to the keys of the mapped_row_data:\n",
    "config_excel[\"title_constructor\"][\"pos_0\"] = \"FileName\"\n",
    "config_excel[\"title_constructor\"][\"pos_1\"] = \"Content\" # try changing to Location_0\n",
    "# config_excel[\"title_constructor\"][\"pos_2\"] = \"Location_2\" # try uncommenting this line\n",
    "\n",
    "# Set a Separator, e.g. a hyphen (separating blank spaces will be added automatically between positions):\n",
    "config_excel[\"title_constructor\"][\"separator\"] = \"-\"\n",
    "\n",
    "# Print Configuration\n",
    "print(\"Configuration of Title Constructor:\")\n",
    "printJSON(config_excel[\"title_constructor\"])\n",
    "\n",
    "# Print Constructed Title\n",
    "title = construct_title(data, config_excel)\n",
    "print(f\"\\nResulting Title: {title}\")"
   ]
  },
  {
   "cell_type": "markdown",
   "metadata": {},
   "source": [
    "#### Construct Description\n",
    "\n",
    "Let's continue with the Description Constructor, which is a highly parameterizable module of this Zenodo Toolbox:"
   ]
  },
  {
   "cell_type": "code",
   "execution_count": null,
   "metadata": {},
   "outputs": [],
   "source": [
    "print(\"Default Constructor:\")\n",
    "printJSON(config_excel[\"description_constructor\"])\n",
    "\n",
    "print(\"\\nCurrent Mapped Data:\")\n",
    "printJSON(data)"
   ]
  },
  {
   "cell_type": "markdown",
   "metadata": {},
   "source": [
    "As you can see, we will have to adapt the default configuration variables with the desired ones, as they are diverging.\n",
    "<br>Here, we can also adapt whatever we like, e.g. remove or add lines, change the HTML style etc.:"
   ]
  },
  {
   "cell_type": "code",
   "execution_count": null,
   "metadata": {},
   "outputs": [],
   "source": [
    "# Adapt to your Patterns\n",
    "config_excel[\"description_constructor\"] = {\n",
    "    \"line_0\": \"<u>FileName</u>: {FileName} <br>\",\n",
    "    \"line_1\": \"<u>Sublocation</u>: {Location_0} <br>\",\n",
    "    \"line_2\": \"<u>Location</u>: {Location_1} <br>\",\n",
    "    \"line_3\": \"<u>Province</u>: {Location_2} <br>\",\n",
    "    \"line_4\": \"<u>Country</u>: {country} <br>\",\n",
    "    \"line_5\": \"<u>Titles</u>: {Titles} <br>\",\n",
    "    \"line_6\": \"<u>Content</u>: {Content} <br>\",\n",
    "    \"line_7\": \"<u>Tags</u>: {Tags} <br><br>\",\n",
    "    \"line_8\": \"<u>Author</u>: {Initiator} <br>\",\n",
    "    \"line_9\": \"<u>Copyright</u>: {RightsHolder} <br>\",\n",
    "    \"line_10\": \"<u>Rightholder's Mail</u>: {author_email} <br>\"\n",
    "}\n",
    "\n",
    "description = construct_description(data, custom_config=config_excel)\n",
    "print(\"Resulting HTML Description:\")\n",
    "display(HTML(description))"
   ]
  },
  {
   "cell_type": "markdown",
   "metadata": {},
   "source": [
    "#### File Validation and Path Finder\n",
    "\n",
    "In our Excel File, we have filenames without any extension listed in the first column, but if we want to upload them into Zenodo Records, we must make sure that the listed file is available and valid.\n",
    "<br>We will do the following:\n",
    "1. Search for the listed file in a specified directory, based on its filename and allowed extensions.\n",
    "2. Validate the file based on its filetype.\n",
    "3. (optional) Uncomment `filename = \"test_image_corrupt\"` and check the results!"
   ]
  },
  {
   "cell_type": "code",
   "execution_count": null,
   "metadata": {},
   "outputs": [],
   "source": [
    "# set example filename from Excel Dataframe\n",
    "row = 0\n",
    "filename = excel_df[\"file name\"][0]\n",
    "# filename = \"test_image_corrupt\" # try this to see the file validator in action!\n",
    "\n",
    "# configure images directory to search in and allowed file extensions\n",
    "config_excel[\"paths\"][\"input\"][\"images\"] = \"Tutorials/Images\"\n",
    "config_excel[\"misc\"][\"image_extensions\"] = [\".png\", \".jpg\", \".jpeg\"] # (don't worry about case sensitivity)\n",
    "\n",
    "# search for file in directory specified above\n",
    "filepath = search_file(filename, config=config_excel)\n",
    "if filepath:\n",
    "    print(f\"File identified: '{filepath}'\")\n",
    "    print(f\"Filetype of '{Path(filepath).name}': '{get_filetype(filepath)}'\")\n",
    "    \n",
    "# validate image file\n",
    "file_validation_errors = validate_file(filepath)\n",
    "if file_validation_errors:\n",
    "    print(\"File Validation errors:\")\n",
    "    for error in file_validation_errors:\n",
    "        print(f\"- {error}\")\n",
    "else:\n",
    "    print(\"- No File Validation Errors found! -\")"
   ]
  },
  {
   "cell_type": "markdown",
   "metadata": {},
   "source": [
    "#### EXIF Data Integration & Processing\n",
    "\n",
    "We can integrate our EXIF data into the description, and/or the general image metadata. Try to change `add_exif` to `False` and `True`:"
   ]
  },
  {
   "cell_type": "code",
   "execution_count": null,
   "metadata": {},
   "outputs": [],
   "source": [
    "# initialize filepath and get EXIF metadata\n",
    "filepath = \"Tutorials/Images/test_image_exif.jpg\"\n",
    "image_metadata = get_image_metadata(filepath)\n",
    "\n",
    "# enable adding image metadata and EXIF data to description\n",
    "config_excel[\"settings\"][\"add_image_metadata_to_description\"] = True\n",
    "add_exif = config_excel[\"settings\"][\"add_exif_to_description\"] = True # set this to False to exclude EXIF from description\n",
    "\n",
    "# construct description and append metadata and EXIF data\n",
    "description = construct_description(data, custom_config=config_excel)\n",
    "description = append_image_metadata_to_description(description, image_metadata, add_exif)\n",
    "display(HTML(description))"
   ]
  },
  {
   "cell_type": "markdown",
   "metadata": {},
   "source": [
    "#### Date Information Extraction\n",
    "\n",
    "With the EXIF data, we can additionally extract Date Information, like the date of capturing, in various formats:"
   ]
  },
  {
   "cell_type": "code",
   "execution_count": null,
   "metadata": {},
   "outputs": [],
   "source": [
    "dates_data = identify_dates_in_exif(image_metadata[\"exif\"]) if image_metadata.get(\"exif\", \"\") else {}\n",
    "printJSON(dates_data)"
   ]
  },
  {
   "cell_type": "markdown",
   "metadata": {},
   "source": [
    "#### Location Information Extraction\n",
    "\n",
    "In addition, by utilizing the metadata and description, we can query exact or approximate coordinates using Nominatim/OSM:\n",
    "\n",
    "<small>\n",
    "\n",
    "<u>Note</u>: This feature is not optimized yet.\n",
    "\n",
    "</small>"
   ]
  },
  {
   "cell_type": "code",
   "execution_count": null,
   "metadata": {},
   "outputs": [],
   "source": [
    "# get mapped data for EXIF example photo\n",
    "filename_photo = \"test_image_exif\"\n",
    "idx_photo = excel_df[excel_df[\"file name\"] == filename_photo].index[0]\n",
    "data = get_mapped_entry(excel_df, idx_photo, config_excel)\n",
    "\n",
    "# configure geolocator\n",
    "config_excel[\"geolocator\"][\"user_agent\"] = \"GeolocatorTutorial/0.1 (your@email.com)\"\n",
    "\n",
    "# retrieve coordinates data, formatted as Zenodo Metadata\n",
    "coordinates = retrieve_coordinates(data, config_excel)\n",
    "print(\"\\nZenodo Coordinates Object:\")\n",
    "printJSON(coordinates)"
   ]
  },
  {
   "cell_type": "markdown",
   "metadata": {},
   "source": [
    "A backoff mechanism is implemented here, so whenever an exact location is not found, it will try to find the higher order location using the less detailed description."
   ]
  },
  {
   "cell_type": "markdown",
   "metadata": {},
   "source": [
    "### Batch Processing: From Excel Data to Zenodo Record\n"
   ]
  },
  {
   "cell_type": "markdown",
   "metadata": {},
   "source": [
    "Since we have explored advanced operations, we can finally adapt some in our batch processing routine, where we will do the following:\n",
    "\n",
    "1) Connect to the Local Database\n",
    "2) Construct Zenodo Metadata\n",
    "3) Create new Zenodo Record per row\n",
    "4) Validate files and upload into deposition\n",
    "5) Publish Record\n",
    "\n",
    "The function `construct_zenodo_metadata` will handle many of the operations we have done before, e.g. the construction of the title and description. Your configuration is crucial here."
   ]
  },
  {
   "cell_type": "code",
   "execution_count": null,
   "metadata": {},
   "outputs": [],
   "source": [
    "# connect to local database\n",
    "db_connection = initialize_db(load_config(\"Tutorials/Configs/db_config.yaml\"))\n",
    "\n",
    "# process excel data\n",
    "len_rows = len(excel_df)\n",
    "for ct_row in range(len_rows):\n",
    "    print(f\"Processing Row {ct_row+1}/{len_rows} ...\")\n",
    "    # 1) Get mapped Excel Data\n",
    "    data = get_mapped_entry(excel_df, ct_row, config_excel)\n",
    "\n",
    "    # 2) Find File specified in mapped Excel Data\n",
    "    filename = data[\"FileName\"]\n",
    "    filepath = search_file(filename, config=config_excel)\n",
    "    assert filepath, f\"File not found: {filename}\"\n",
    "    print(f\"Filename: {filename}\")\n",
    "    print(f\"Filepath: {filepath}\")\n",
    "\n",
    "    # 3) Validate File\n",
    "    file_validation_errors = validate_file(filepath)\n",
    "    assert not file_validation_errors, \"File Validation errors:\\n\" + \"\\n\".join(f\"- {error}\" for error in file_validation_errors)\n",
    "    print(\"File successfully validated.\")\n",
    "\n",
    "    # 4) Extract Images Metadata and EXIF Data\n",
    "    image_metadata = get_image_metadata(filepath)\n",
    "    print(\"Image Metadata:\")\n",
    "    printJSON(image_metadata)\n",
    "\n",
    "    # 5) Extract Dates from EXIF\n",
    "    dates_data = {}\n",
    "    if image_metadata:\n",
    "        dates_data = identify_dates_in_exif(image_metadata[\"exif\"]) if image_metadata.get(\"exif\", \"\") else {}\n",
    "        if dates_data:\n",
    "            print(f\"Dates Data:\")\n",
    "            printJSON(dates_data)\n",
    "        else:\n",
    "            print(\"No Dates identified.\")\n",
    "\n",
    "    # 6) Query Coordinates from Location Information\n",
    "    locations_data = retrieve_coordinates(data, config_excel) if config_excel[\"settings\"][\"retrieve_coordinates\"] else []\n",
    "    if locations_data:\n",
    "        print(f\"Locations Data:\")\n",
    "        printJSON(locations_data)\n",
    "    else:\n",
    "        print(\"No Locations identified.\")\n",
    "\n",
    "    # 7) Configure what you like & Construct Zenodo Metadata\n",
    "    config_excel[\"title_constructor\"].pop(\"pos_1\", None)\n",
    "    zenodo_metadata = construct_zenodo_metadata(row_data=data, image_metadata=image_metadata, \n",
    "                                                dates_data=dates_data, locations_data=locations_data, \n",
    "                                                files_data={}, custom_config=config_excel)\n",
    "    printJSON(zenodo_metadata)\n",
    "\n",
    "    # 8) Validate constructed Zenodo Metadata\n",
    "    zenodo_metadata_validation_errors = validate_zenodo_metadata(zenodo_metadata)\n",
    "    assert not zenodo_metadata_validation_errors, \"Zenodo Metadata Validation errors:\\n\" + \"\\n\".join(f\"- {error}\" for error in zenodo_metadata_validation_errors)\n",
    "    print(\"Zenodo Metadata successfully validated.\")\n",
    "            \n",
    "    # 9) Create Record\n",
    "    create_msg, create_data = create_record(zenodo_metadata, db_connection)\n",
    "    assert create_msg[\"success\"], f\"Failed to create Record: {create_msg['text']}\"\n",
    "    concept_recid = create_data[\"conceptrecid\"]\n",
    "    print(\"Operation:\")\n",
    "    print_table(db_connection, \"operations\", create_data[\"conceptrecid\"])\n",
    "\n",
    "    # 10) Write JSON if EXIF\n",
    "    filepaths = [filepath]\n",
    "    \n",
    "    upload_exif_json = config_excel[\"settings\"][\"upload_exif_json\"] = True\n",
    "    if image_metadata[\"exif\"] and upload_exif_json:\n",
    "        exif_json_path = f'{config_excel[\"paths\"][\"output\"][\"exif_json\"]}/{concept_recid}/{Path(filepath).stem}.json'\n",
    "        if write_json(image_metadata[\"exif\"], exif_json_path):\n",
    "            filepaths.append(exif_json_path)\n",
    "            \n",
    "    # 11) Upload Files\n",
    "    fileupload_msg, fileupload_data = upload_files_into_deposition(create_data, filepaths, False, db_connection)\n",
    "    assert fileupload_msg[\"success\"], f\"Failed to upload Files: {fileupload_msg['text']}\"\n",
    "    print(\"Operation:\")\n",
    "    print_table(db_connection, \"operations\", create_data[\"conceptrecid\"])\n",
    "\n",
    "    # 12) Set additional_data before publishing for Database entry and Filetables\n",
    "    additional_data = {\n",
    "        \"type\": \"image\",\n",
    "        \"subset\": \"excel-tutorial\",\n",
    "        \"filedata\": fileupload_data\n",
    "    }\n",
    "\n",
    "    # 13) Publish Record\n",
    "    publish_msg, publish_data = publish_record(create_data, db_connection, additional_data)\n",
    "    assert publish_msg[\"success\"], f\"Failed to publish Record with ConceptRecID {create_data['conceptrecid']}\"\n",
    "    print(\"Operation:\")\n",
    "    print_table(db_connection, \"operations\", publish_data[\"conceptrecid\"])\n",
    "    print(\"Record:\")\n",
    "    print_table(db_connection, \"records\", publish_data[\"conceptrecid\"])\n",
    "\n",
    "# Close database connection\n",
    "db_connection.close()"
   ]
  },
  {
   "cell_type": "markdown",
   "metadata": {},
   "source": [
    "## Conclusion\n",
    "\n",
    "In your [uploads section](https://sandbox.zenodo.org/me/uploads), you should now see those five records. If you open the Record called \"test_image_exif\", you should additionally see a JSON containing the EXIF data in the files deposition, which should be in the description encoded as HTML as well. If you click on 'Preview' next to the JSON file, you will see it displayed with Unicode escape sequences, such as \"\\u00a9\" representing the copyright symbol.\n",
    "\n",
    "If you want to add filetables, you must create the record first in order to receive the RecordID and assign the filelinks according to that (`{filename: directlink}`), which you can provide to the function `construct_zenodo_metadata` as a dictionary using the argument `files_data`. Keep in mind that the configuration settings/add_filetables_to_description must be set to `true`.\n",
    "\n",
    "<br>This was just an example; every step can be tweaked or expanded, e.g. by adding **resized images**, **masking persons on images**, **rendering thumbnails for 3D models** or additionally **uploading the EXIF as JSON**."
   ]
  }
 ],
 "metadata": {
  "kernelspec": {
   "display_name": "Python 3",
   "language": "python",
   "name": "python3"
  },
  "language_info": {
   "codemirror_mode": {
    "name": "ipython",
    "version": 3
   },
   "file_extension": ".py",
   "mimetype": "text/x-python",
   "name": "python",
   "nbconvert_exporter": "python",
   "pygments_lexer": "ipython3",
   "version": "3.10.14"
  }
 },
 "nbformat": 4,
 "nbformat_minor": 4
}
