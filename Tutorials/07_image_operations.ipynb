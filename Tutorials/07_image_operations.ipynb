{
 "cells": [
  {
   "cell_type": "markdown",
   "metadata": {},
   "source": [
    "# Image Operations\n",
    "\n",
    "In this notebook, we will do the following, and configure what to include in the deposition of a record:\n",
    "1) Resize Images\n",
    "2) Extract EXIF data\n",
    "3) Mask Persons using SOTA models"
   ]
  },
  {
   "cell_type": "markdown",
   "metadata": {},
   "source": [
    "Before we start, we will initialize a new record and our sandbox database, we will leave out debugging, as you might be familiar and know how to handle errors at this point:"
   ]
  },
  {
   "cell_type": "code",
   "execution_count": null,
   "metadata": {},
   "outputs": [],
   "source": [
    "from datetime import date\n",
    "import json\n",
    "import os\n",
    "from pathlib import Path\n",
    "\n",
    "os.chdir(Path().absolute().parent) if Path().absolute().name == \"Tutorials\" else None\n",
    "\n",
    "from db_tools import initialize_db\n",
    "from main_functions import create_record, publish_record, upload_files_into_deposition\n",
    "from person_masker import load_person_masker_models, mask_persons\n",
    "from utilities import append_to_json, get_image_metadata, load_config, resize_image, write_json\n",
    "\n",
    "# Load DB configuration and change path to DB\n",
    "db_config = load_config(\"Tutorials/Configs/db_config.yaml\")\n",
    "db_connection = initialize_db(db_config)\n",
    "\n",
    "# Initial Configuration\n",
    "zenodo_config = load_config(\"Tutorials/Configs/zenodo.yaml\")\n",
    "USE_ENV_API_KEY = zenodo_config[\"main\"][\"use_env_api_key\"]\n",
    "USE_SANDBOX = zenodo_config[\"main\"][\"use_sandbox\"]\n",
    "ZENODO_BASE_URL = \"https://sandbox.zenodo.org\" if USE_SANDBOX else \"https://zenodo.org\"\n",
    "\n",
    "if USE_ENV_API_KEY:\n",
    "    ZENODO_API_KEY = os.environ.get(\"ZENODO_SANDBOX_API_KEY\") if USE_SANDBOX else os.environ.get(\"ZENODO_API_KEY\")\n",
    "else:\n",
    "    ZENODO_API_KEY = \"your_sandbox_api_key_here\" if USE_SANDBOX else \"your_production_api_key_here\"\n",
    "\n",
    "HEADERS = {\"Content-Type\": \"application/json\"}\n",
    "PARAMS = {\"access_token\": ZENODO_API_KEY}\n",
    "print(f\"Using {'Sandbox' if USE_SANDBOX else 'Production'} Zenodo Environment.\")\n",
    "\n",
    "test_metadata = {\n",
    "    \"metadata\": {\n",
    "        \"title\": \"Test Dataset for Image Operations (Tutorial)\",\n",
    "        \"description\": \"This is a test dataset for image operations.\",\n",
    "        \"upload_type\": \"dataset\",\n",
    "        \"creators\": [{\"name\": \"Doe, John\", \"affiliation\": \"Test University\"}],\n",
    "        \"access_right\": \"open\",\n",
    "        \"license\": \"cc-by-4.0\",\n",
    "        \"version\": \"0.0.1\",\n",
    "        \"publication_date\": date.today().strftime(\"%Y-%m-%d\")\n",
    "    }\n",
    "}\n",
    "\n",
    "result_msg, result_data = create_record(test_metadata, db_connection)"
   ]
  },
  {
   "cell_type": "markdown",
   "metadata": {},
   "source": [
    "### Resize / Scale Images\n",
    "\n",
    "If we want to scale our images, we can set the maximum length or width size, or set a ratio, both using the configuration, and upload the scaled images as well. It will use Lanczos resampling by default:"
   ]
  },
  {
   "cell_type": "code",
   "execution_count": null,
   "metadata": {},
   "outputs": [],
   "source": [
    "# Load Configuration for Image Operations\n",
    "config_images = load_config(\"Tutorials/Configs/image_operations.yaml\")\n",
    "\n",
    "# Modify Configuration\n",
    "config_images[\"settings\"][\"image_resize\"][\"active\"] = True # activate resizer\n",
    "config_images[\"settings\"][\"image_resize\"][\"use_ratio\"] = False # disable Ratio Mode\n",
    "config_images[\"settings\"][\"image_resize\"][\"max_dimension_value\"] = 400 # set maximum dimension value in pixel\n",
    "config_images[\"settings\"][\"upload_resized_image\"] = True\n",
    "config_images[\"settings\"][\"upload_resized_image_only\"] = True # decide if you want to upload the resized images only\n",
    "\n",
    "# Set input images\n",
    "filepaths = [\"Tutorials/Images/test_image.png\", \"Tutorials/Images/test_image_2.png\"]\n",
    "\n",
    "# Resize Images and add Paths based on your configurations\n",
    "new_filepaths = []\n",
    "for filepath in filepaths:\n",
    "    resized_filepath = resize_image(filepath, config_images)\n",
    "    \n",
    "    if config_images[\"settings\"][\"upload_resized_image\"]:\n",
    "        new_filepaths.append(resized_filepath)\n",
    "    \n",
    "    if not config_images[\"settings\"][\"upload_resized_image_only\"]:\n",
    "        new_filepaths.append(filepath)\n",
    "        \n",
    "print(f'Resized Images have been saved to: {config_images[\"paths\"][\"output\"][\"resized_images\"]}')\n",
    "\n",
    "# Perform File Uploads into Draft Deposition\n",
    "fileupload_msg, fileupload_data = upload_files_into_deposition(result_data, new_filepaths, db_connection=db_connection)\n",
    "if fileupload_msg[\"success\"] and fileupload_data:\n",
    "    print(\"\\nFiles successfully uploaded!\")\n",
    "    [print(f\"\\nDirect Link to {i['filename']}: {i['links']['download'].replace('/files', '/draft/files')}\") for i in fileupload_data]\n",
    "else:\n",
    "    print(\"\\nFailed to upload Files. Please check the error message above or in fileupload_msg['text']:\")\n",
    "    print(fileupload_msg[\"text\"])"
   ]
  },
  {
   "cell_type": "markdown",
   "metadata": {},
   "source": [
    "### Extract EXIF, Metadata and Paradata\n",
    "\n",
    "Since photos and images can generally contain very valuable metadata and paradata, extracting them is extremely useful. However, they can also contain personal data, in particular residential addresses, which we do not want to publish in the Zenodo Record. In the following, we will try this out using an example image, add the extracted data to the description and export a JSON:"
   ]
  },
  {
   "cell_type": "code",
   "execution_count": null,
   "metadata": {},
   "outputs": [],
   "source": [
    "# initialize variables\n",
    "project_title = config_images[\"project_title\"]\n",
    "image_path = \"Tutorials/Images/test_image_exif.jpg\"\n",
    "json_path = f\"Tutorials/Output/{project_title}/{Path(image_path).stem}.json\"\n",
    "\n",
    "# extract metadata, paradata and EXIF\n",
    "image_metadata = get_image_metadata(image_path=image_path, remove_address=True, remove_mail=True)\n",
    "\n",
    "# print and write result\n",
    "print(json.dumps(image_metadata, indent=2, ensure_ascii=False))\n",
    "write_json(image_metadata, json_path)\n",
    "print(f\"JSON written to: {json_path}\")"
   ]
  },
  {
   "cell_type": "markdown",
   "metadata": {},
   "source": [
    "Try to change the argument `remove_mail` to False and check the result."
   ]
  },
  {
   "cell_type": "markdown",
   "metadata": {},
   "source": [
    "### Mask Persons on Images\n",
    "\n",
    "In order to mask persons on images, for example due to privacy concerns, we will use a detector and a segmentation model, more precisely YOLOv10 and Segment-Anything-Model 2, but you can define your own models in the configuration."
   ]
  },
  {
   "cell_type": "code",
   "execution_count": 10,
   "metadata": {},
   "outputs": [],
   "source": [
    "config_images[\"person_masker\"][\"active\"] = True # activate person segmentation\n",
    "config_images[\"person_masker\"][\"bbox_device\"] = \"cpu\" # set to cpu or cuda\n",
    "config_images[\"person_masker\"][\"segmentation_device\"] = \"cpu\" # \"\"\n",
    "config_images[\"person_masker\"][\"threshold\"] = 0.1 # set threshold for person detection model\n",
    "\n",
    "bbox_model, segmentation_model = load_person_masker_models(config_images)"
   ]
  },
  {
   "cell_type": "code",
   "execution_count": null,
   "metadata": {},
   "outputs": [],
   "source": [
    "# define filepaths to images with persons on it\n",
    "filepaths = [\"Tutorials/Images/persontest_image.jpg\", \"Tutorials/Images/persontest_image_2.jpg\"]\n",
    "\n",
    "# mask persons on images, provide the loaded models\n",
    "new_filepaths = []\n",
    "new_filepaths = mask_persons(bbox_model=bbox_model, segmentation_model=segmentation_model,\n",
    "                             config=config_images, filepaths=filepaths, process_directory=False)\n",
    "\n",
    "# upload images, decide if you want to upload the masked ones only or both by list operations\n",
    "fileupload_msg, fileupload_data = upload_files_into_deposition(result_data, new_filepaths, db_connection=db_connection)\n",
    "    "
   ]
  },
  {
   "cell_type": "markdown",
   "metadata": {},
   "source": [
    "### Publish Record"
   ]
  },
  {
   "cell_type": "code",
   "execution_count": null,
   "metadata": {},
   "outputs": [],
   "source": [
    "# Publish Record\n",
    "published_msg, published_data = publish_record(result_data, db_connection)\n",
    "if published_msg[\"success\"]:\n",
    "    print(\"Record successfully published!\")\n",
    "    \n",
    "    # Save the published record data locally\n",
    "    append_to_json(published_data, \"Tutorials/Output/sandbox_published.json\")\n",
    "\n",
    "print(\"Published Record Information:\")\n",
    "print(f\"Title: {published_data['metadata']['title']}\")\n",
    "print(f\"DOI: {published_data['doi']}\")\n",
    "print(f\"Record URL: {published_data['links']['record_html']}\")\n",
    "print(\"\\nFiles in the published record:\")\n",
    "for file in published_data['files']:\n",
    "    print(f\"- {file['filename']} (Size: {int(file['filesize']) / (1024 * 1024):.2f} MB): {file['links']['download'].replace('/draft', '')}\")"
   ]
  },
  {
   "cell_type": "markdown",
   "metadata": {},
   "source": [
    "### Adjust Parameters\n",
    "\n",
    "You will notice that, while `persontest_image_2.jpg` was masked perfectly, this is not the case for `persontest_image.jpg`.\n",
    "<br>If you want to see what went wrong, you can consult the detector results in the configured directory and the printed Logs.\n",
    "<br>Adjust the parameters like the threshold, or set another model that is more capable, based on your needs and computing capabilities.\n",
    "\n",
    "<small>\n",
    "\n",
    "Note: Don't worry, the test images you just uploaded are Public Domain (CC0) licensed.\n",
    "\n",
    "</small>"
   ]
  }
 ],
 "metadata": {
  "kernelspec": {
   "display_name": "Python 3",
   "language": "python",
   "name": "python3"
  },
  "language_info": {
   "codemirror_mode": {
    "name": "ipython",
    "version": 3
   },
   "file_extension": ".py",
   "mimetype": "text/x-python",
   "name": "python",
   "nbconvert_exporter": "python",
   "pygments_lexer": "ipython3",
   "version": "3.10.14"
  }
 },
 "nbformat": 4,
 "nbformat_minor": 4
}
