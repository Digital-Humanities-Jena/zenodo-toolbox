{
 "cells": [
  {
   "cell_type": "markdown",
   "metadata": {},
   "source": [
    "# Zenodo-Toolbox: Introduction, Account and API Setup\n",
    "\n",
    "**Zenodo** is a general-purpose open-access repository developed under the European OpenAIRE program and operated by CERN, allowing researchers to deposit research papers, data sets, research software, reports, and any other research-related digital artifacts, including digital cultural heritage data like 3D models or image sources.\n",
    "\n",
    "These notebooks demonstrate how to use the Zenodo Toolbox, starting with creating an account for testing purposes and setting up an API key for further operations. We'll go through all available processes step-by-step, explaining each part along the way.\n",
    "\n",
    "### Create a Sandbox Account\n",
    "Zenodo operates two distinct environments:\n",
    "\n",
    "1. The **official Zenodo platform** ([https://zenodo.org](https://zenodo.org)) serves as the production environment for real data storage, sharing, and public API access.\n",
    "\n",
    "2. The **Zenodo Sandbox** ([https://sandbox.zenodo.org](https://sandbox.zenodo.org)) functions as a separate testing environment. It replicates the main platform's features, allowing users to safely experiment with uploads, metadata creation, and API interactions without impacting the live environment or generating permanent records.\n",
    "\n",
    "For this guide, we recommend using the [Zenodo Sandbox Environment](https://sandbox.zenodo.org/). Please note that you'll need to create a new account specifically for the Sandbox, as credentials from the official Zenodo platform are not valid here.\n",
    "\n",
    "\n",
    "### Generate an API key\n",
    "First, after creating your Sandbox account and logging in, you have to [generate an API key](https://sandbox.zenodo.org/account/settings/applications/):\n",
    "- In the section 'Personal access tokens', click on 'New token', enter a name and activate all Scopes. Create the key and save it securely; you won't be able to access that key afterwards.\n",
    "- It is recommended to store this key as an environment variable (see below), but for testing purposes, you will be able to set any API key directly in the notebooks."
   ]
  },
  {
   "cell_type": "markdown",
   "metadata": {},
   "source": [
    "### Storing API Keys as Environment Variables\n",
    "\n",
    "Storing API keys as environment variables is a security best practice. It keeps sensitive information out of your code and version control systems, reducing the risk of accidental exposure. This demonstrates how to store and access an API key as an environment variable named `ZENODO_SANDBOX_API_KEY` across different operating systems.\n",
    "\n",
    "<small>\n",
    "\n",
    "#### Windows\n",
    "\n",
    "In Windows, you can set an environment variable using the Command Prompt:\n",
    "<br>`setx ZENODO_SANDBOX_API_KEY your_api_key_here`\n",
    "\n",
    "or using Powershell:\n",
    "<br>`[Environment]::SetEnvironmentVariable(\"ZENODO_SANDBOX_API_KEY\", \"your_api_key_here\", \"User\")`.\n",
    "\n",
    "\n",
    "#### macOS and Linux\n",
    "\n",
    "On macOS and Linux, you can add the environment variable to your shell configuration file (e.g., `.bashrc`, `.zshrc`):\n",
    "\n",
    "1) directly in the environment:\n",
    "\n",
    "```bash\n",
    "export ZENODO_API_KEY=[...]\n",
    "export ZENODO_SANDBOX_API_KEY=[...]\n",
    "source ~/.zshrc # or: source ~/.bashrc\n",
    "```\n",
    "\n",
    "2) <ins>or</ins> persistently in the environment:\n",
    "```bash\n",
    "nano ~/.zshrc # or: nano ~/.bashrc\n",
    "\n",
    "—> set cursor to new line and paste:\n",
    "export ZENODO_API_KEY=[...]\n",
    "export ZENODO_SANDBOX_API_KEY=[...]\n",
    "\n",
    "—> press CTRL+o to save it and CTRL+x to exit.\n",
    "```\n",
    "\n",
    "Important Note: The access tokens for the [sandbox](https://sandbox.zenodo.org/) and the [public Zenodo](https://zenodo.org/) are not intercompatible! You must create an individual account and access token for each page.\n",
    "\n",
    "</small>\n"
   ]
  },
  {
   "cell_type": "markdown",
   "metadata": {},
   "source": [
    "### Testing API Key Accessibility\n",
    "\n",
    "After setting up your environment variable, it's important to verify that it has been correctly stored and is accessible. The following Python code will check if the `ZENODO_SANDBOX_API_KEY` environment variable is set and accessible.\n",
    "\n",
    "Run the code cell below to test:\n",
    "\n",
    "- If the key is found, it will print a success message and show the first 4 and last 4 characters of the key.\n",
    "- If the key is not found, it will print an error message.\n",
    "\n",
    "Remember: Never print or log your full API key in a real-world scenario. The partial display here is only for verification purposes."
   ]
  },
  {
   "cell_type": "code",
   "execution_count": null,
   "metadata": {},
   "outputs": [],
   "source": [
    "import os\n",
    "\n",
    "# Attempt to retrieve the API key\n",
    "api_key = os.environ.get('ZENODO_SANDBOX_API_KEY')\n",
    "\n",
    "if api_key:\n",
    "    # Key found, display partial key for verification\n",
    "    masked_key = f\"{api_key[:4]}...{api_key[-4:]}\"\n",
    "    print(f\"Success! ZENODO_SANDBOX_API_KEY is set.\")\n",
    "    print(f\"The key begins with '{api_key[:4]}' and ends with '{api_key[-4:]}'\")\n",
    "    print(f\"Masked key: {masked_key}\")\n",
    "else:\n",
    "    # Key not found\n",
    "    print(\"Error: ZENODO_SANDBOX_API_KEY not found in environment variables.\")\n",
    "    print(\"Please ensure you've correctly set the environment variable.\")\n",
    "    print(\"Refer to the previous instructions for setting environment variables on your operating system.\")\n",
    "\n",
    "# Optional: Print all environment variables (be cautious with this in shared environments)\n",
    "# print(\"\\nAll environment variables:\")\n",
    "# for key, value in os.environ.items():\n",
    "#     print(f\"{key}: {value}\")\n"
   ]
  }
 ],
 "metadata": {
  "kernelspec": {
   "display_name": "Python 3",
   "language": "python",
   "name": "python3"
  },
  "language_info": {
   "codemirror_mode": {
    "name": "ipython",
    "version": 3
   },
   "file_extension": ".py",
   "mimetype": "text/x-python",
   "name": "python",
   "nbconvert_exporter": "python",
   "pygments_lexer": "ipython3",
   "version": "3.10.13"
  }
 },
 "nbformat": 4,
 "nbformat_minor": 4
}
