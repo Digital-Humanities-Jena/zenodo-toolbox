{
 "cells": [
  {
   "cell_type": "markdown",
   "metadata": {},
   "source": [
    "# Zenodo-Toolbox: Create a Record\n",
    "\n",
    "This notebook demonstrates how to use the Zenodo Toolbox to create a new record on Zenodo, utilizing both the validator and API functionalities. The process involves several key steps:\n",
    "\n",
    "1. **Setting Up the Environment**: We'll configure our environment to use either the Zenodo Sandbox (for testing) or the production Zenodo, and set up our API key.\n",
    "\n",
    "2. **Preparing Metadata**: We'll create a sample metadata dictionary that describes our record. This metadata includes essential information such as the title, description, creators, and license of the dataset.\n",
    "\n",
    "3. **Validating Metadata**: Before submitting to Zenodo, we'll use the Zenodo Toolbox's validator function to ensure our metadata meets Zenodo's requirements. This step helps catch any errors or missing information before attempting to create the record.\n",
    "\n",
    "4. **Creating the Record**: Once our metadata is validated, we'll use the Zenodo Toolbox's API functionality to create a new draft record on Zenodo. This step involves sending our metadata to Zenodo's API and handling the response.\n",
    "\n",
    "5. **Reviewing the Results**: After attempting to create the record, we'll examine the response from Zenodo to confirm whether the record was successfully created and to retrieve important information about the new record.\n",
    "\n",
    "\n",
    "## Initial Configuration\n",
    "\n",
    "The first code cell will set up our environment with the following configurations:\n",
    "- Choose between Zenodo Sandbox (testing) and Production environments.\n",
    "- Decide whether to use environment variables for API keys or hardcoded keys.\n",
    "- Set up headers and parameters for API requests.\n",
    "\n",
    "This setup ensures that we're using the correct environment and API key for our operations. It's crucial to verify these settings before proceeding with creating a record.\n",
    "\n",
    "Let's begin by running the initial configuration code.\n"
   ]
  },
  {
   "cell_type": "code",
   "execution_count": null,
   "metadata": {},
   "outputs": [],
   "source": [
    "from datetime import date\n",
    "import os\n",
    "from pathlib import Path\n",
    "\n",
    "os.chdir(Path().absolute().parent) if Path().absolute().name == \"Tutorials\" else None\n",
    "from main_functions import create_record\n",
    "from utilities import append_to_json, printJSON, validate_zenodo_metadata\n",
    "\n",
    "# Initial Configuration\n",
    "USE_SANDBOX = True  # Set to True to use the Zenodo Sandbox (testing environment), False for production\n",
    "ZENODO_BASE_URL = \"https://sandbox.zenodo.org\" if USE_SANDBOX else \"https://zenodo.org\"\n",
    "USE_ENV_API_KEY = True  # Set to False if you want to use hardcoded API keys\n",
    "\n",
    "# Decide which API key to use based on our configuration\n",
    "if USE_ENV_API_KEY:\n",
    "    ZENODO_API_KEY = os.environ.get(\"ZENODO_SANDBOX_API_KEY\") if USE_SANDBOX else os.environ.get(\"ZENODO_API_KEY\")\n",
    "else:\n",
    "    ZENODO_API_KEY = \"your_sandbox_api_key_here\" if USE_SANDBOX else \"your_production_api_key_here\"\n",
    "\n",
    "# Set up headers and parameters for our API requests\n",
    "HEADERS = {\"Content-Type\": \"application/json\"}\n",
    "PARAMS = {\"access_token\": ZENODO_API_KEY}\n",
    "\n",
    "print(f\"Using {'Sandbox' if USE_SANDBOX else 'Production'} Zenodo Environment.\")\n",
    "print(f\"Zenodo API Key is being sourced from {'Environment Variables' if USE_ENV_API_KEY else 'the Code'}\")"
   ]
  },
  {
   "cell_type": "markdown",
   "metadata": {},
   "source": [
    "## Create and Validate Test Metadata\n",
    "\n",
    "Before creating a new Zenodo record, it's important to prepare and validate the metadata. This step ensures that our data meets Zenodo's requirements before we attempt to create the record.\n",
    "\n",
    "In the following code cell, we'll create a sample metadata dictionary and then validate it using our `validate_zenodo_metadata` function."
   ]
  },
  {
   "cell_type": "code",
   "execution_count": null,
   "metadata": {},
   "outputs": [],
   "source": [
    "# Sample metadata for a new Zenodo record.\n",
    "# -> Try to change any key string to see the errors responses of the validator\n",
    "test_metadata = {\n",
    "    \"metadata\": {\n",
    "        \"title\": \"Test Dataset for Zenodo API Tutorial\",\n",
    "        \"description\": \"This is a test dataset created using the Zenodo API as part of a beginner's tutorial.\",\n",
    "        \"upload_type\": \"dataset\",\n",
    "        \"creators\": [{\"name\": \"Doe, John\", \"affiliation\": \"Test University\"}],\n",
    "        \"access_right\": \"open\",\n",
    "        \"license\": \"cc-by-4.0\",\n",
    "        \"version\": \"0.0.1\",\n",
    "        \"publication_date\": date.today().strftime(\"%Y-%m-%d\")\n",
    "    }\n",
    "}\n",
    "\n",
    "print(\"Validating Metadata...\")\n",
    "validation_errors = validate_zenodo_metadata(test_metadata)\n",
    "\n",
    "if validation_errors:\n",
    "    print(\"\\nValidation errors:\")\n",
    "    for error in validation_errors:\n",
    "        print(f\"- {error}\")\n",
    "else:\n",
    "    print(\"\\nNo validation errors found.\")"
   ]
  },
  {
   "cell_type": "markdown",
   "metadata": {},
   "source": [
    "## Create a New Zenodo Record\n",
    "\n",
    "Now that we have validated our metadata, we can proceed to create a new Zenodo record. We'll use the `create_record` function to submit our metadata to Zenodo and create a new draft record.\n",
    "\n",
    "The following code cell attempts to create the record and then displays the results."
   ]
  },
  {
   "cell_type": "code",
   "execution_count": null,
   "metadata": {},
   "outputs": [],
   "source": [
    "print(\"Attempting to create a new Zenodo record...\")\n",
    "\n",
    "# Attempt to create a new record\n",
    "result_msg, result_data = create_record(test_metadata)\n",
    "\n",
    "# Print the results\n",
    "print(\"\\nResult Message:\")\n",
    "printJSON(result_msg)\n",
    "print(\"\\nResult Data:\")\n",
    "printJSON(result_data)\n",
    "\n",
    "if result_msg[\"success\"]:\n",
    "    append_to_json(result_data, \"Tutorials/Output/sandbox_drafts.json\")\n",
    "    print(\"\\nZenodo Record successfully created! Response Data saved to: Tutorials/Output/sandbox_drafts.json\")\n",
    "else:\n",
    "    print(\"\\nFailed to create Zenodo Record. Please check the error message above or in result_msg['text'].\")\n"
   ]
  },
  {
   "cell_type": "markdown",
   "metadata": {},
   "source": [
    "## Interpreting the Results\n",
    "\n",
    "Let's break down what the results mean:\n",
    "\n",
    "1. **Success or Failure**: \n",
    "   - If `result_msg['success']` is `True`, it means our record was created successfully. \n",
    "   - If it's `False`, something went wrong during the creation process.\n",
    "\n",
    "2. **Response Code**: \n",
    "   - `result_msg['response']` gives us the HTTP status code from the API. \n",
    "   - A code of 201 means the record was created successfully.\n",
    "   - Other codes (like 400, 403, etc.) indicate various types of errors.\n",
    "\n",
    "3. **Message**: \n",
    "   - `result_msg['text']` provides a human-readable description of what happened.\n",
    "\n",
    "4. **Errors**: \n",
    "   - If there were any errors, `result_msg['errors']` will contain more detailed information about what went wrong.\n",
    "\n",
    "5. **Result Data**: \n",
    "   - If the record was created successfully, `result_data` will contain information about the new record, such as its ID, URL, and other details.\n",
    "   - If there was an error, `result_data` might contain additional error information.\n",
    "\n",
    "\n",
    "You are now able to see the complete response in the file [sandbox_drafts.json](Output/sandbox_drafts.json), which will be used in the next notebooks."
   ]
  },
  {
   "cell_type": "markdown",
   "metadata": {},
   "source": [
    "## Preview the Draft\n",
    "\n",
    "If you are logged in and head to [your Sandbox uploads](https://sandbox.zenodo.org/me/uploads), you should be able to see your recently created draft and preview it as a Zenodo record page."
   ]
  },
  {
   "cell_type": "markdown",
   "metadata": {},
   "source": [
    "## Get Information from Draft Data\n",
    "\n",
    "After successfully creating a draft on Zenodo, we can inspect the data returned in the response. This information is crucial for further operations on the draft, such as updating metadata, uploading files and publishing the upload.\n",
    "\n",
    "The following code extracts key pieces of information from the `result_data` dictionary, which is assumed to contain the response from Zenodo after creating a draft."
   ]
  },
  {
   "cell_type": "code",
   "execution_count": null,
   "metadata": {},
   "outputs": [],
   "source": [
    "\n",
    "title = result_data[\"title\"]\n",
    "concept_record_id = result_data[\"conceptrecid\"]\n",
    "record_id = result_data[\"id\"]\n",
    "reserved_doi = result_data[\"metadata\"][\"prereserve_doi\"][\"doi\"]\n",
    "\n",
    "html_link = result_data[\"links\"][\"html\"]\n",
    "discard_link = result_data[\"links\"][\"discard\"]\n",
    "publish_link = result_data[\"links\"][\"publish\"]\n",
    "\n",
    "# Print extracted information\n",
    "print(f\"Title: {title}\")\n",
    "print(f\"Concept Record ID: {concept_record_id}\")\n",
    "print(f\"Record ID: {record_id}\")\n",
    "print(f\"Reserved DOI: {reserved_doi}\")\n",
    "print(f\"Draft HTML Link: {html_link}\")\n",
    "print(f\"Discard Link: {discard_link}\")\n",
    "print(f\"Publish Link: {publish_link}\")"
   ]
  },
  {
   "cell_type": "markdown",
   "metadata": {},
   "source": [
    "### What to do next?\n",
    "\n",
    "- If the record was created successfully, you have actually created a record draft that remains unpublished. Use the information in `result_data` to access or further operate on this Zenodo record draft.\n",
    "- Before publishing, we will have to upload files into the deposition, as explained in the next notebook.\n",
    "- If there was an error, review the error messages to understand what went wrong. Common issues include incorrect API keys, invalid metadata format, or network problems. Rarely — but still possible — internal errors may appear from Zenodo's site, e.g. during maintenances or outages.\n",
    "\n",
    "Remember, when using the sandbox environment (`USE_SANDBOX = True`), you're working with a test version of Zenodo. This is great for learning and testing, but records created here won't appear on the main Zenodo site and the given DOIs will not be resolved."
   ]
  }
 ],
 "metadata": {
  "kernelspec": {
   "display_name": "Python 3",
   "language": "python",
   "name": "python3"
  },
  "language_info": {
   "codemirror_mode": {
    "name": "ipython",
    "version": 3
   },
   "file_extension": ".py",
   "mimetype": "text/x-python",
   "name": "python",
   "nbconvert_exporter": "python",
   "pygments_lexer": "ipython3",
   "version": "3.10.14"
  }
 },
 "nbformat": 4,
 "nbformat_minor": 4
}
