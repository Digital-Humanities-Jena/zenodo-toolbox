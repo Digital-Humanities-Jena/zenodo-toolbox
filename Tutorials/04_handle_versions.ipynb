{
 "cells": [
  {
   "cell_type": "markdown",
   "metadata": {},
   "source": [
    "# Updating Zenodo Records and Communities\n",
    "\n",
    "This notebook demonstrates advanced techniques for managing and updating Zenodo records and communities. We'll cover several key aspects of working with the Zenodo API and our local database:\n",
    "\n",
    "### 1. Creating a New Version and updating Record Metadata\n",
    "\n",
    "- Modifying existing record information\n",
    "- Handling HTML content in descriptions\n",
    "- Incorporating file tables and changelogs\n",
    "\n",
    "### 2. File Management\n",
    "\n",
    "- Updating files in existing records\n",
    "- Dealing with filename conflicts in record deposits\n",
    "- Strategies for efficient file updates\n",
    "\n",
    "### 3. Community Integration\n",
    "\n",
    "- Adding existing records to Zenodo communities\n",
    "- Updating community metadata\n",
    "- Managing record visibility within communities\n",
    "\n",
    "### 4. Local Database Synchronization\n",
    "\n",
    "- Reflecting Zenodo updates in our local SQLite database\n",
    "- Ensuring consistency between Zenodo and local data\n",
    "- Optimizing database operations for performance\n",
    "\n",
    "### 5. HTML Content Handling\n",
    "\n",
    "- Safely incorporating HTML in record descriptions\n",
    "- Creating and updating file tables dynamically\n",
    "- Maintaining changelogs with HTML formatting\n",
    "\n",
    "### 6. Error Handling and Edge Cases\n",
    "\n",
    "- Addressing API rate limits and timeouts\n",
    "- Handling partial updates and rollbacks\n",
    "- Ensuring data integrity across operations\n",
    "\n",
    "Throughout this notebook, we'll use practical examples to illustrate these concepts. By the end, you'll have a comprehensive understanding of how to effectively manage and update your Zenodo records and communities while maintaining a synchronized local database.\n",
    "\n",
    "Let's begin by setting up our environment and initializing our connections to both Zenodo and our local database.\n"
   ]
  },
  {
   "cell_type": "code",
   "execution_count": null,
   "metadata": {},
   "outputs": [],
   "source": [
    "import copy\n",
    "from datetime import date\n",
    "import os\n",
    "from pathlib import Path\n",
    "\n",
    "os.chdir(Path().absolute().parent) if Path().absolute().name == \"Tutorials\" else None\n",
    "from db_tools import clear_operations_by_status, initialize_db, print_table\n",
    "from main_functions import create_new_version, discard_draft, publish_record, update_metadata, upload_files_into_deposition\n",
    "from utilities import increment_version, load_config, load_json, printJSON, validate_zenodo_metadata\n",
    "\n",
    "\n",
    "# Initialize Database Connection to track and update Operations\n",
    "db_config = load_config(\"Configs/db_config.yaml\")\n",
    "db_path = \"Tutorials/sandbox.db\"\n",
    "db_config[\"local_db_path\"] = db_path\n",
    "db_connection = initialize_db(db_config)\n",
    "\n",
    "if db_connection:\n",
    "    print(f\"Database connection initialized successfully at {db_path}.\")\n",
    "else:\n",
    "    print(\"Failed to initialize database.\")\n",
    "    \n",
    "\n",
    "# Load recently published record response\n",
    "data = load_json(\"Tutorials/Output/sandbox_published.json\")[-1]\n",
    "if data:\n",
    "    print(f\"Successfully loaded Zenodo response data with ConceptRecordID {data['conceptrecid']} and RecordID {data['id']} (Version = {data['metadata']['version']})\")"
   ]
  },
  {
   "cell_type": "markdown",
   "metadata": {},
   "source": [
    "## Create new Record Version\n",
    "\n",
    "We use the links provided in the response data to create a new version and update this operation. Just provide the response data, as the function will handle the rest, e.g. finding the correct link or discarding pending drafts:"
   ]
  },
  {
   "cell_type": "code",
   "execution_count": null,
   "metadata": {},
   "outputs": [],
   "source": [
    "new_version_msg, new_version_data = create_new_version(data, db_connection=db_connection)\n",
    "if new_version_msg[\"success\"]:\n",
    "    print(f\"Successfully created a new Version with RecordID {new_version_data['id']}: {new_version_data['links']['html']}\\n\")\n",
    "    printJSON(new_version_data)\n",
    "    \n",
    "    print_table(db_connection, \"operations\", new_version_data[\"conceptrecid\"])\n",
    "else:\n",
    "    print(f\"Something went wrong, check Errors messages: {new_version_msg}\")"
   ]
  },
  {
   "cell_type": "markdown",
   "metadata": {},
   "source": [
    "As you can see, the state is 'unsubmitted' and you have received a new Record ID, but the Concept Record ID remained the same.\n",
    "#### (optional) Discard Version Draft\n",
    "The function `create_new_version()` handles discarding existing drafts, if the flag `discard_existing_drafts` is not set to `False`, as it is not possible to create new versions while a draft is pending. But if you want to manually discard this version, you can use the `discard_draft` function:"
   ]
  },
  {
   "cell_type": "code",
   "execution_count": null,
   "metadata": {},
   "outputs": [],
   "source": [
    "discard_link = new_version_data[\"links\"][\"discard\"]\n",
    "discard_msg, discard_data = discard_draft(discard_link, \"\", db_connection, new_version_data)\n",
    "if discard_msg[\"success\"]:\n",
    "    print(\"Successfully discarded Draft!\\n\")\n",
    "    print(f\"This page should not be available anymore: {new_version_data['links']['html']}\")\n",
    "    print_table(db_connection, \"operations\", new_version_data[\"conceptrecid\"])\n",
    "else:\n",
    "    print(f\"Error while discarding draft: {discard_msg}\")"
   ]
  },
  {
   "cell_type": "markdown",
   "metadata": {},
   "source": [
    "## Update Metadata\n",
    "Now after creating a new version again, we can proceed with updating the Metadata, based on the previous Metadata, and validate it before pushing:"
   ]
  },
  {
   "cell_type": "code",
   "execution_count": null,
   "metadata": {},
   "outputs": [],
   "source": [
    "# Create a new version again, after discarding it\n",
    "new_version_msg, new_version_data = create_new_version(data, db_connection=db_connection) # data still represents the latest published record, so it is still valid for this operation\n",
    "if new_version_msg[\"success\"]:\n",
    "    print(f\"Successfully created a new Version with RecordID {new_version_data['id']}: {new_version_data['links']['html']}\\n\")\n",
    "    print_table(db_connection, \"operations\", new_version_data[\"conceptrecid\"])\n",
    "else:\n",
    "    print(f\"Something went wrong, check Errors messages: {new_version_msg}\")\n",
    "\n",
    "\n",
    "# Copy recent metadata and update it\n",
    "new_metadata = {\"metadata\": copy.deepcopy(new_version_data[\"metadata\"])}\n",
    "new_metadata[\"metadata\"][\"version\"] = \"0.0.2\"\n",
    "new_metadata[\"metadata\"][\"description\"] = \"This is Version N of the Test Dataset.\"\n",
    "new_metadata[\"metadata\"][\"publication_date\"] = date.today().strftime(\"%Y-%m-%d\")\n",
    "\n",
    "print(\"Validating Metadata...\")\n",
    "validation_errors = validate_zenodo_metadata(new_metadata)\n",
    "\n",
    "if validation_errors:\n",
    "    print(\"\\nValidation errors:\")\n",
    "    for error in validation_errors:\n",
    "        print(f\"- {error}\")\n",
    "else:\n",
    "    print(\"\\nNo validation errors found.\")\n",
    "    \n",
    "\n",
    "# Push updated Metadata to the draft of the new record version\n",
    "update_msg, update_data = update_metadata(new_version_data, new_metadata, db_connection=db_connection)\n",
    "if update_msg[\"success\"]:\n",
    "    print(f\"New Metadata pushed to pending Draft Version with RecordID {update_data['id']}: {update_data['links']['html']}\\n\")\n",
    "    printJSON(update_data)\n",
    "    print_table(db_connection, \"operations\", update_data[\"conceptrecid\"])\n",
    "else:\n",
    "    print(f\"Something went wrong, check Errors messages: {update_msg}\")"
   ]
  },
  {
   "cell_type": "markdown",
   "metadata": {},
   "source": [
    "<small>\n",
    "Note: If you have created a Draft and did not discard it, you will see the statement 'Discard completed', coming from the automated version discarding when creating a new version.\n",
    "</small>"
   ]
  },
  {
   "cell_type": "markdown",
   "metadata": {},
   "source": [
    "### Add and Replace Files\n",
    "\n",
    "As files with the same filename are not allowed, the function `upload_files_into_deposition` handles the deletion of already existing ones automatically, if the flag `replace_existing` is set to `True`. Just providing a list of filepaths is sufficient.\n",
    "<br>Let's try to add some 3D Model files and one already existing image file:"
   ]
  },
  {
   "cell_type": "code",
   "execution_count": null,
   "metadata": {},
   "outputs": [],
   "source": [
    "filepaths = [\"Tutorials/3DModels/test_model.obj\", \"Tutorials/3DModels/test_model.mtl\", \"Tutorials/Images/test_image_2.png\"]\n",
    "fileupload_msg, fileupload_data = upload_files_into_deposition(new_version_data, filepaths, replace_existing=True, db_connection=db_connection)\n",
    "\n",
    "print(\"\\nResponse of Fileupload to Zenodo Sandbox:\")\n",
    "printJSON(fileupload_data)\n",
    "\n",
    "if fileupload_msg[\"success\"] and fileupload_data:\n",
    "    print(\"\\nFiles successfully uploaded!\")\n",
    "    [print(f\"\\nDirect Link to {i['filename']}: {i['links']['download'].replace('/files', '/draft/files')}\") for i in fileupload_data]\n",
    "    print_table(db_connection, \"operations\", update_data[\"conceptrecid\"])\n",
    "else:\n",
    "    print(\"\\nFailed to upload Files. Please check the error message above or in fileupload_msg['text']:\")\n",
    "    print(fileupload_msg[\"text\"])"
   ]
  },
  {
   "cell_type": "markdown",
   "metadata": {},
   "source": [
    "### Add Filetables and Changelogs to Description\n",
    "\n",
    "It is allowed to use ([limited](https://github.com/zenodo/zenodo/blob/master/zenodo/modules/records/serializers/fields/html.py#L33)) HTML in the descriptions, including **tables**, which enables implementing them with direct links to the latest versions of recently uploaded files.\n",
    "<br>For **3D Models**, we can additionally upload **Thumbnails** in different resolutions, in order to satisfy various use cases. **Changelogs** contain all versions as href links to the persistent record versions."
   ]
  },
  {
   "cell_type": "code",
   "execution_count": null,
   "metadata": {},
   "outputs": [],
   "source": [
    "from datetime import datetime\n",
    "from utilities import update_description\n",
    "latest_data = update_data # always proceed with the most recent data\n",
    "\n",
    "new_metadata = {\"metadata\": copy.deepcopy(latest_data[\"metadata\"])}\n",
    "new_metadata[\"metadata\"][\"publication_date\"] = datetime.now().strftime(\"%Y-%m-%d\") # do not forget to set the current date of publication\n",
    "new_version = increment_version(latest_data[\"metadata\"][\"version\"], 1) # this sets 0.0.1 to 0.0.2; modify the second parameter to define the incremental level\n",
    "new_metadata[\"metadata\"][\"version\"] = new_version\n",
    "\n",
    "changelog = f\"Testing the Changelog Functionality of Version {new_version}.\"\n",
    "new_description = update_description(latest_data, fileupload_data, new_version, changelog)\n",
    "new_metadata[\"metadata\"][\"description\"] = new_description\n",
    "\n",
    "metadata_msg, metadata_data = update_metadata(latest_data, new_metadata, db_connection=db_connection)\n",
    "if metadata_msg[\"success\"]:\n",
    "    print(f'Successfully pushed new Metadata: {metadata_data[\"links\"][\"html\"]}')\n",
    "    print_table(db_connection, \"operations\", update_data[\"conceptrecid\"])\n",
    "else:\n",
    "    print(\"\\nSomething went wrong. Please check the error messages:\")\n",
    "    print(metadata_msg[\"text\"])\n"
   ]
  },
  {
   "cell_type": "markdown",
   "metadata": {},
   "source": [
    "Following the given link, you should be able to click on Preview on the right side of your draft and see the new description, Changelog including a link to the current version, and tables with \"Main Files\" and \"Thumbnails\".\n",
    "<br>**Thumbnails** are automatically sorted by suffixes like `..._perspective_1.png`, `..._perspective4_512x512.png` etc., as defined in the 3D thumbnail rendering function. This sorting behaviour is configurable."
   ]
  },
  {
   "cell_type": "markdown",
   "metadata": {},
   "source": [
    "## Publish New Version\n",
    "\n",
    "After updating the Metadata and Files in the new version's draft, we can finally publish the new Version:"
   ]
  },
  {
   "cell_type": "code",
   "execution_count": null,
   "metadata": {},
   "outputs": [],
   "source": [
    "# set additional data for DB updates\n",
    "additional_data = {\n",
    "    \"type\": \"image\",\n",
    "    \"subset\": \"project_sandbox\",\n",
    "    \"changelogs\": {},\n",
    "    \"filedata\": fileupload_data\n",
    "}\n",
    "\n",
    "publish_msg, publish_data = publish_record(metadata_data, db_connection, additional_data) # remember to always use the most recent response data, metadata_data in this case\n",
    "\n",
    "if publish_msg[\"success\"]:\n",
    "    print(\"Record successfully published!\")\n",
    "    print(f\"DOI: {publish_data['doi']}\")\n",
    "    print(f\"Record URL: {publish_data['links']['record_html']}\")\n",
    "    print_table(db_connection, \"operations\", update_data[\"conceptrecid\"])\n",
    "else:\n",
    "    print(\"Failed to publish record. Error message:\")\n",
    "    print(publish_msg[\"text\"])"
   ]
  },
  {
   "cell_type": "markdown",
   "metadata": {},
   "source": [
    "## All-in-One Function for Easy Updates\n",
    "\n",
    "Above steps were shown to explain what is happening behind the function `update_record` and the processes behind updating a Zenodo record in general.\n",
    "<br>So, if you easily want to let it handle these processes automatically, use this logic, which does the following:\n",
    "\n",
    "- Create New Record\n",
    "- Upload Files\n",
    "- Update Metadata, including the Version + Description with Filetables and Changelogs\n",
    "- Publish New Version and Write to DB"
   ]
  },
  {
   "cell_type": "code",
   "execution_count": null,
   "metadata": {},
   "outputs": [],
   "source": [
    "from main_functions import identify_latest_record, retrieve_by_concept_recid, update_record\n",
    "from utilities import increment_version\n",
    "\n",
    "filepaths = [\"Tutorials/3DModels/test_model.obj\", \"Tutorials/3DModels/test_model.mtl\", \"Tutorials/Images/test_image_2.png\", \"Tutorials/Thumbnails/test_model_perspective_4_512x512.png\", \"Tutorials/Thumbnails/test_model_perspective_1.png\"]\n",
    "# set additional data for DB updates\n",
    "additional_data = {\n",
    "    \"type\": \"image\",\n",
    "    \"subset\": \"project_sandbox\",\n",
    "    \"changelogs\": {},\n",
    "}\n",
    "\n",
    "# use this to retrieve the latest published version from Zenodo\n",
    "# it is more safe, but for large operations, use the responses table in the local db to minimize queries / maximize rate efficiency\n",
    "retrieval_msg, retrieval_data = retrieve_by_concept_recid(data[\"conceptrecid\"], all_versions=False)\n",
    "if retrieval_msg[\"success\"] and retrieval_data:\n",
    "    print(f\"Latest Record Data retrieved from Zenodo for ConceptRecordID {data['conceptrecid']}.\")\n",
    "    latest_msg, latest_published_data = identify_latest_record(retrieval_data)\n",
    "    if not latest_msg[\"success\"]:\n",
    "        print(f\"Could not identify latest Record: {latest_msg['text']}\")\n",
    "else:\n",
    "    print(f\"Could not retrieve latest Record Data for ConceptRecordID {data['conceptrecid']}\")\n",
    "\n",
    "# Write a new Description and a Changelog Text\n",
    "new_description = f\"This is an even newer description of Version {increment_version(latest_published_data['metadata']['version'], 1)}\"\n",
    "changelog_text = f\"Uploaded/Updated Files: {' | '.join([Path(i).name for i in filepaths])}\"\n",
    "\n",
    "# Perform Update Processes using the update_record() function\n",
    "update_msg, update_data = update_record(latest_data=latest_published_data, filepaths=filepaths, replace_existing_files=True, replace_description=new_description, \n",
    "                                        changelog=changelog_text, debug_mode=False, \n",
    "                                        db_connection=db_connection, additional_data=additional_data)\n",
    "if update_msg[\"success\"]:\n",
    "    print(f\"Successfully updated ConceptRecordID {update_data['conceptrecid']} to Version {update_data['metadata']['version']}: {update_data['links']['html']}\\n\")\n",
    "    printJSON(update_data)\n",
    "    print_table(db_connection, \"operations\", update_data[\"conceptrecid\"])\n",
    "else:\n",
    "    print(f\"Something went wrong, check Errors messages: {update_msg}\")"
   ]
  },
  {
   "cell_type": "markdown",
   "metadata": {},
   "source": [
    "## Update Database and Close the Database Connection\n",
    "\n",
    "<small>\n",
    "\n",
    "<u>Note</u>:\n",
    "The column `all_recids` might not contain the `recid` of the first version in this example, as it was published in Notebook #02 without a connected DB.\n",
    "<br>This is intentional, as the integrity tools — used to ensure convergence between responses and databases — will be demonstrated in an upcoming Notebook.\n",
    "\n",
    "</small>"
   ]
  },
  {
   "cell_type": "code",
   "execution_count": null,
   "metadata": {},
   "outputs": [],
   "source": [
    "for table_name in [list(i.keys())[0] for i in db_config[\"db_structures\"][\"tables\"]]:\n",
    "    print(f\"{table_name}:\")\n",
    "    print_table(db_connection, table_name)\n",
    "\n",
    "db_operation = clear_operations_by_status(db_connection, [\"discarded\", \"published\"])\n",
    "print(f\"Clear Operations Table: {db_operation}\")\n",
    "print_table(db_connection, \"operations\", update_data[\"conceptrecid\"])\n",
    "\n",
    "db_connection.close()\n",
    "print(\"Database connection closed.\")\n"
   ]
  }
 ],
 "metadata": {
  "kernelspec": {
   "display_name": "Python 3",
   "language": "python",
   "name": "python3"
  },
  "language_info": {
   "codemirror_mode": {
    "name": "ipython",
    "version": 3
   },
   "file_extension": ".py",
   "mimetype": "text/x-python",
   "name": "python",
   "nbconvert_exporter": "python",
   "pygments_lexer": "ipython3",
   "version": "3.10.14"
  }
 },
 "nbformat": 4,
 "nbformat_minor": 4
}
