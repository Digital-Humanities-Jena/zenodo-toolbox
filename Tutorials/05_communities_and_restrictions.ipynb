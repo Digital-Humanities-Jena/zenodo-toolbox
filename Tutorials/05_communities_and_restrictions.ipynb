{
 "cells": [
  {
   "cell_type": "markdown",
   "metadata": {},
   "source": [
    "# Communities and Access Restrictions\n",
    "\n",
    "This notebook is designed to guide you through the process of working with communities and managing access restrictions in Zenodo.\n",
    "\n",
    "1. **Communities in Zenodo**\n",
    "   - Understanding the concept of communities\n",
    "   - Creating and managing communities\n",
    "   - Assigning records to communities using the Zenodo Toolbox\n",
    "\n",
    "2. **Access Restrictions**\n",
    "   - Open Access: Making your research freely available\n",
    "   - Restricted Access: Controlling who can view your data\n",
    "   - Embargoed Access: Setting time-based restrictions on your research\n",
    "\n",
    "3. **Sharing and Accessing Data**\n",
    "   - Methods for accessing and sharing data, even when it's not public\n",
    "   - Understanding the difference between private records and private files"
   ]
  },
  {
   "cell_type": "code",
   "execution_count": null,
   "metadata": {},
   "outputs": [],
   "source": [
    "import json\n",
    "import os\n",
    "from pathlib import Path\n",
    "import requests\n",
    "\n",
    "os.chdir(Path().absolute().parent) if Path().absolute().name == \"Tutorials\" else None\n",
    "from db_tools import get_row, initialize_db, print_table\n",
    "from main_functions import publish_record, retrieve_by_concept_recid, update_metadata\n",
    "from utilities import load_config, load_json, printJSON\n",
    "\n",
    "# Initial Upload Configuration\n",
    "USE_SANDBOX = True\n",
    "ZENODO_BASE_URL = \"https://sandbox.zenodo.org\" if USE_SANDBOX else \"https://zenodo.org\"\n",
    "USE_ENV_API_KEY = True\n",
    "\n",
    "if USE_ENV_API_KEY:\n",
    "    ZENODO_API_KEY = os.environ.get(\"ZENODO_SANDBOX_API_KEY\") if USE_SANDBOX else os.environ.get(\"ZENODO_API_KEY\")\n",
    "else:\n",
    "    ZENODO_API_KEY = \"your_sandbox_api_key_here\" if USE_SANDBOX else \"your_production_api_key_here\"\n",
    "\n",
    "HEADERS = {\"Content-Type\": \"application/json\"}\n",
    "PARAMS = {\"access_token\": ZENODO_API_KEY}\n",
    "\n",
    "\n",
    "# Initialize Database Connection to track and update Operations\n",
    "db_config = load_config(\"Configs/db_config.yaml\")\n",
    "db_path = \"Tutorials/sandbox.db\"\n",
    "db_config[\"local_db_path\"] = db_path\n",
    "db_connection = initialize_db(db_config)\n",
    "\n",
    "if db_connection:\n",
    "    print(f\"Database connection initialized successfully at {db_path}.\")\n",
    "else:\n",
    "    print(\"Failed to initialize database.\")\n",
    "    \n",
    "\n",
    "# Load record response from database\n",
    "data = load_json(\"Tutorials/Output/sandbox_published.json\")[-1]\n",
    "if data:\n",
    "    print(f\"Successfully loaded Zenodo response data with ConceptRecordID {data['conceptrecid']} and RecordID {data['id']} (Version = {data['metadata']['version']})\")"
   ]
  },
  {
   "cell_type": "markdown",
   "metadata": {},
   "source": [
    "**Important:** You will notice that the loaded Response Data has the **Version 0.0.1**. If you have just completed the previous Notebook #04, your latest version should be higher.\n",
    "<br>To retrieve the response data of the latest version, use `get_row()` for the table `responses`:"
   ]
  },
  {
   "cell_type": "code",
   "execution_count": null,
   "metadata": {},
   "outputs": [],
   "source": [
    "# Retrieve Response Data from Local Database\n",
    "row_data = get_row(db_connection, \"responses\", \"concept_recid\", data[\"conceptrecid\"], print_result=False)\n",
    "# Parse JSON String to Data\n",
    "data = json.loads(row_data[\"data\"])\n",
    "# Print JSON Data of latest Zenodo Response for given ConceptRecordID\n",
    "printJSON(data)"
   ]
  },
  {
   "cell_type": "markdown",
   "metadata": {},
   "source": [
    "Alternatively, or if you have created a completely new Record, you can retrieve the latest available record directly from Zenodo:"
   ]
  },
  {
   "cell_type": "code",
   "execution_count": null,
   "metadata": {},
   "outputs": [],
   "source": [
    "latest_msg, latest_data = retrieve_by_concept_recid(data[\"conceptrecid\"], all_versions=False)\n",
    "data = latest_data[0]\n",
    "printJSON(data)"
   ]
  },
  {
   "cell_type": "markdown",
   "metadata": {},
   "source": [
    "## Create and Manage Community\n",
    "\n",
    "Creating and managing a community on Zenodo is an excellent way to group related research outputs and increase their visibility. Let's explore how to create a community and what settings are available.\n",
    "\n",
    "### Creating a Community\n",
    "\n",
    "1. Log in to your Zenodo account at [https://sandbox.zenodo.org/](https://sandbox.zenodo.org/)\n",
    "2. Navigate to [https://sandbox.zenodo.org/communities/](https://sandbox.zenodo.org/communities/)\n",
    "3. Click on the \"New community\" button\n",
    "\n",
    "### Community Settings\n",
    "\n",
    "When creating a community, you'll need to provide the following information:\n",
    "\n",
    "- **Identifier**: A unique identifier for your community (e.g., \"my-research-group\")\n",
    "- **Title**: The name of your community\n",
    "- **Description**: A brief description of the community's purpose and scope\n",
    "- **Curation policy**: Guidelines for what content is acceptable in the community\n",
    "- **Page**: An optional longer description or homepage for the community\n",
    "- **Logo**: An image to represent your community (recommended size: 90x90 pixels)\n",
    "\n",
    "### Additional Settings\n",
    "\n",
    "- **Restricted**: Choose whether the community is public or restricted\n",
    "- **Visibility**: Set the community to be listed publicly or hidden\n",
    "- **Email notifications**: Opt to receive emails about new uploads to the community\n",
    "\n",
    "### Managing Community Members\n",
    "\n",
    "As a community creator, you become the owner. You can add other members with different roles:\n",
    "\n",
    "- **Curator**: Can accept/reject submissions and edit community details\n",
    "- **Reader**: Can view restricted communities but cannot curate\n",
    "\n",
    "To add members:\n",
    "1. Go to your community page\n",
    "2. Click on \"Edit\"\n",
    "3. Navigate to the \"Members\" tab\n",
    "4. Use the \"Add member\" function to invite users by their email address\n",
    "\n",
    "### Curating Content\n",
    "\n",
    "Community curators can:\n",
    "- Review and accept/reject submissions\n",
    "- Remove records from the community\n",
    "- Feature specific records on the community page\n",
    "\n",
    "For more detailed information, visit Zenodo's [Communities guide](https://help.zenodo.org/communities/).\n",
    "\n",
    "Using the Zenodo Toolbox, we'll explore programmatic ways to assign communities in the following sections.\n"
   ]
  },
  {
   "cell_type": "markdown",
   "metadata": {},
   "source": [
    "After setting up your test community and creating an identifier, assign it in the metadata:"
   ]
  },
  {
   "cell_type": "code",
   "execution_count": 4,
   "metadata": {},
   "outputs": [],
   "source": [
    "community_identifier = \"zenodo-toolbox-tutorial\"\n",
    "data[\"metadata\"][\"communities\"] = [{'identifier': community_identifier}]"
   ]
  },
  {
   "cell_type": "markdown",
   "metadata": {},
   "source": [
    "### Push Metadata to Public Record\n",
    "In the next step, we have to push the new metadata in order to assign it to the desired community.\n",
    "<br>To modify an existing, already published Record, we need to set it into 'Edit Mode' first, and then push the Metadata.\n",
    "<br>In order to publish it correctly after all changes are made, we additionally need to remove the DOI from the metadata that is being pushed to the existing record.\n",
    "\n",
    "<small>\n",
    "\n",
    "Note: The manual removal of the DOI from the metadata seems to be a current workaround and might change in future. If this is not done, you will receive a 400 Validation Error when trying to publish the changed record.\n",
    "\n",
    "</small>"
   ]
  },
  {
   "cell_type": "code",
   "execution_count": null,
   "metadata": {},
   "outputs": [],
   "source": [
    "# enable 'Edit Mode' for the public record\n",
    "r_edit = requests.post(data[\"links\"][\"edit\"], params=PARAMS)\n",
    "if not r_edit.status_code == 201:\n",
    "    print(f\"Something went wrong, check Error messages: {r_edit.json()}\")\n",
    "\n",
    "# remove DOI from metadata that shall be pushed\n",
    "del data[\"metadata\"][\"doi\"]\n",
    "\n",
    "# push metadata to record\n",
    "metadata_msg, metadata_data = update_metadata(data, {\"metadata\": data[\"metadata\"]}, db_connection)\n",
    "if metadata_msg[\"success\"]:\n",
    "    print(f\"New Metadata pushed to published record with RecordID {metadata_data['id']}.\")\n",
    "    printJSON(metadata_data)\n",
    "    print_table(db_connection, \"operations\", metadata_data[\"conceptrecid\"])\n",
    "else:\n",
    "    print(f\"Something went wrong, check Error messages: {metadata_msg}\")"
   ]
  },
  {
   "cell_type": "markdown",
   "metadata": {},
   "source": [
    "### Publish Record with updated Metadata\n",
    "\n",
    "Now we can finally publish the updated changes, and the record should be available as a part of your Zenodo community, if it was approved manually or automatically."
   ]
  },
  {
   "cell_type": "code",
   "execution_count": null,
   "metadata": {},
   "outputs": [],
   "source": [
    "# Publish Record\n",
    "publish_msg, publish_data = publish_record(metadata_data, db_connection)\n",
    "\n",
    "if publish_msg[\"success\"]:\n",
    "    print(\"Record successfully published!\")\n",
    "    print(f\"DOI: {publish_data['doi']}\")\n",
    "    print(f\"Record URL: {publish_data['links']['record_html']}\")\n",
    "    print_table(db_connection, \"operations\", metadata_data[\"conceptrecid\"])\n",
    "else:\n",
    "    print(\"Failed to publish record. Error message:\")\n",
    "    print(publish_msg[\"text\"])"
   ]
  },
  {
   "cell_type": "markdown",
   "metadata": {},
   "source": [
    "## Access Restrictions and Accessing Restricted Data\n",
    "\n",
    "Zenodo offers different levels of access restrictions for uploaded datasets and files. Understanding these restrictions is crucial for both data providers and users. The three main types of access restrictions are:\n",
    "\n",
    "### 1. Open Access\n",
    "\n",
    "- **Definition**: Files are freely available for anyone to download and use.\n",
    "- **Visibility**: Metadata and files are publicly visible and downloadable.\n",
    "- **Use Case**: Ideal for open science initiatives and maximizing research impact.\n",
    "\n",
    "### 2. Embargoed Access\n",
    "\n",
    "- **Definition**: Files are temporarily restricted but will become openly accessible after a specified date.\n",
    "- **Visibility**: Metadata is visible, but files are not downloadable until the embargo lifts.\n",
    "- **Use Case**: Useful for datasets associated with upcoming publications or patent applications.\n",
    "\n",
    "### 3. Restricted Access\n",
    "\n",
    "- **Definition**: Files are only accessible to specific users or groups.\n",
    "- **Visibility**: Metadata may be visible, but file access is controlled.\n",
    "- **Use Case**: Suitable for sensitive data, proprietary information, or datasets with ethical considerations.\n",
    "\n",
    "### Working with Restricted Data\n",
    "\n",
    "In the following notebook sections, you'll learn two key aspects of handling restricted data on Zenodo:\n",
    "\n",
    "1. **Making Data Restricted**: You'll discover how to upload files and set appropriate access restrictions using the Zenodo API.\n",
    "\n",
    "2. **Accessing Restricted Data**: We'll explore methods to programmatically request and retrieve restricted data through the API, with proper authentication.\n",
    "\n",
    "These practical exercises will equip you with the skills to manage sensitive data effectively on the Zenodo platform, both as a data provider and a data user.\n",
    "Remember, always respect the access restrictions and usage terms set by the data providers when working with Zenodo datasets.\n"
   ]
  },
  {
   "cell_type": "markdown",
   "metadata": {},
   "source": [
    "Let's start by modifying and pushing the Metadata:\n",
    "1) Set the access right\n",
    "2) Remove the license from metadata\n",
    "3) Define access conditions\n",
    "4) Enter Edit Mode, Remove DOI & Push modified Metadata to existing Record"
   ]
  },
  {
   "cell_type": "code",
   "execution_count": null,
   "metadata": {},
   "outputs": [],
   "source": [
    "data = publish_data # assign latest response data\n",
    "data[\"metadata\"][\"access_right\"] = \"restricted\" # set access_right here\n",
    "if \"license\" in list(data[\"metadata\"].keys()): # delete license from metadata after access restriction\n",
    "    del data[\"metadata\"][\"license\"]\n",
    "data[\"metadata\"][\"access_conditions\"] = \"Contact the owner to request an access token for this restricted data.\" # short explanation on how to acquire access\n",
    "\n",
    "# Enable Edit Mode\n",
    "r_edit = requests.post(data[\"links\"][\"edit\"], params=PARAMS)\n",
    "if not r_edit.status_code == 201:\n",
    "    print(f\"Something went wrong, check Error messages: {r_edit.json()}\")\n",
    "    \n",
    "# Remove DOI and push Metadata\n",
    "del data[\"metadata\"][\"doi\"]\n",
    "metadata_msg, metadata_data = update_metadata(data, {\"metadata\": data[\"metadata\"]}, db_connection)\n",
    "if metadata_msg[\"success\"]:\n",
    "    print(f\"New Metadata pushed to published record with RecordID {metadata_data['id']}.\")\n",
    "    printJSON(metadata_data)\n",
    "    print_table(db_connection, \"operations\", metadata_data[\"conceptrecid\"])\n",
    "else:\n",
    "    print(f\"Something went wrong, check Error messages: {metadata_msg}\")"
   ]
  },
  {
   "cell_type": "markdown",
   "metadata": {},
   "source": [
    "### Publish Record and Check Access\n",
    "\n",
    "Let's publish the changes:"
   ]
  },
  {
   "cell_type": "code",
   "execution_count": null,
   "metadata": {},
   "outputs": [],
   "source": [
    "# Publish Record\n",
    "publish_msg, publish_data = publish_record(metadata_data, db_connection)\n",
    "\n",
    "if publish_msg[\"success\"]:\n",
    "    print(\"Record successfully published!\")\n",
    "    print(f\"DOI: {publish_data['doi']}\")\n",
    "    print(f\"Record URL: {publish_data['links']['record_html']}\")\n",
    "    print_table(db_connection, \"operations\", metadata_data[\"conceptrecid\"])\n",
    "else:\n",
    "    print(\"Failed to publish record. Error message:\")\n",
    "    print(publish_msg[\"text\"])"
   ]
  },
  {
   "cell_type": "markdown",
   "metadata": {},
   "source": [
    "### Check the Record and Access Data\n",
    "\n",
    "Click on the Record URL printed above, and you should see a red 'Restricted' tag on the upper right of the record page.\n",
    "<br>Let's try to access the data without an authorized access token, and afterwards with the one we have used all the time.\n",
    "<br>You already know how to create an access token, so if you want to provide any user with a **read-only** token to protect your records, it should be inserted in the `params`.\n",
    "\n",
    "<small>\n",
    "\n",
    "**Important**: As usual, the download links provided in the response still contain the `/draft` breadcrump, which must be removed, else it will return a `404`.\n",
    "\n",
    "</small>"
   ]
  },
  {
   "cell_type": "code",
   "execution_count": null,
   "metadata": {},
   "outputs": [],
   "source": [
    "data = publish_data\n",
    "files_data = data[\"files\"]\n",
    "\n",
    "# Wrong Token Access\n",
    "access_established = False\n",
    "test_download_link = files_data[0][\"links\"][\"download\"].replace(\"/draft\", \"\")\n",
    "r_download = requests.get(test_download_link, params={\"access_token\": \"123456789\"})\n",
    "print(f\"Response with wrong Token: {json.dumps(r_download.json(), indent=2)}\")\n",
    "\n",
    "# Authorized Token Access\n",
    "r_download = requests.get(test_download_link, params={\"access_token\": ZENODO_API_KEY}) # set custom API key here, e.g. with read-only rights.\n",
    "if r_download.status_code == 200:\n",
    "    access_established = True\n",
    "    print(f\"Response with authorized Token: {r_download.status_code}\")\n",
    "else:\n",
    "    print(\"Something went wrong. Did you use the correct access token in order to access the restricted data?\")\n",
    "\n",
    "# Download Restricted Files\n",
    "if access_established:\n",
    "    savepath = f'Tutorials/Output/{files_data[0][\"filename\"]}'\n",
    "    with open(savepath, \"wb\") as file:\n",
    "        file.write(r_download.content)\n",
    "    db_connection.close()\n",
    "else:\n",
    "    print(\"Access to restricted data not established.\")"
   ]
  },
  {
   "cell_type": "markdown",
   "metadata": {},
   "source": [
    "### Embargoed Data\n",
    "\n",
    "Setting the access_right to `embargoed` basically means that you decide when your data will become openly accessible.\n",
    "<br>The main differences to the above procedures are that you have to set a `license` and an `embargo_date` in the metadata."
   ]
  },
  {
   "cell_type": "markdown",
   "metadata": {},
   "source": [
    "## Conclusion\n",
    "\n",
    "This notebook has demonstrated key procedures for managing restricted data on Zenodo:\n",
    "\n",
    "1. Implementing access restrictions during data upload\n",
    "2. Accessing restricted data via the Zenodo API\n",
    "\n",
    "These operations are essential for maintaining data confidentiality while facilitating controlled sharing within the scientific community. Users are reminded to adhere to Zenodo's terms of service, data protection regulations, and ethical guidelines when handling restricted datasets.\n",
    "\n",
    "For further information, please consult the official [Zenodo API documentation](https://developers.zenodo.org/)."
   ]
  }
 ],
 "metadata": {
  "kernelspec": {
   "display_name": "Python 3",
   "language": "python",
   "name": "python3"
  },
  "language_info": {
   "codemirror_mode": {
    "name": "ipython",
    "version": 3
   },
   "file_extension": ".py",
   "mimetype": "text/x-python",
   "name": "python",
   "nbconvert_exporter": "python",
   "pygments_lexer": "ipython3",
   "version": "3.10.14"
  }
 },
 "nbformat": 4,
 "nbformat_minor": 4
}
