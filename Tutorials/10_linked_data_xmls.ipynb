{
 "cells": [
  {
   "cell_type": "markdown",
   "metadata": {},
   "source": [
    "# Generate XMLs - EDM and METS/MODS Examples\n",
    "\n",
    "This Jupyter notebook demonstrates how to generate XML files compliant with two important metadata standards used in digital libraries and cultural heritage:\n",
    "\n",
    "1. **Europeana Data Model (EDM)**: A flexible model for describing digital objects in the cultural heritage domain, used by Europeana.\n",
    "2. **METS/MODS**: Metadata Encoding and Transmission Standard (METS) combined with Metadata Object Description Schema (MODS), commonly used for describing digital library objects.\n",
    "\n",
    "We'll use two example templates, which can be modified or extended.\n",
    "\n",
    "#### Objectives\n",
    "\n",
    "- Implement reserved persistent links into XMLs\n",
    "- Create valid EDM and METS/MODS XML files\n",
    "- Use the Validator against their respective schemas"
   ]
  },
  {
   "cell_type": "code",
   "execution_count": 2,
   "metadata": {},
   "outputs": [],
   "source": [
    "from datetime import datetime, timezone\n",
    "import os\n",
    "from pathlib import Path\n",
    "import re\n",
    "from string import Template\n",
    "os.chdir(Path().absolute().parent) if Path().absolute().name == \"Tutorials\" else None\n",
    "\n",
    "from main_functions import create_record, publish_record, upload_files_into_deposition\n",
    "from utilities import validate_edm_xml, validate_metsmods, validate_zenodo_metadata\n",
    "\n",
    "# Define Template Paths\n",
    "edm_template_path = Path(\"Templates/tutorial_template_edm.xml\") # this is an intentionally faulty one\n",
    "metsmods_template_path = Path(\"Templates/template_metsmods.xml\")\n",
    "\n",
    "# Load XMLs as Templates\n",
    "edm_template = Template(edm_template_path.read_text(encoding=\"utf-8\"))\n",
    "metsmods_template = Template(metsmods_template_path.read_text(encoding=\"utf-8\"))"
   ]
  },
  {
   "cell_type": "markdown",
   "metadata": {},
   "source": [
    "#### (optional) Use other Placeholder Formats\n",
    "If your template consists of other placeholder formats, e.g. %id%, replace them using regular expression processing to make it compatible with the string/Template module:"
   ]
  },
  {
   "cell_type": "code",
   "execution_count": 10,
   "metadata": {},
   "outputs": [],
   "source": [
    "# Replace custom Placeholders\n",
    "edm_template_txt = re.sub(r\"%(\\w+)%\", r\"${\\1}\", edm_template_path.read_text(encoding=\"utf-8\"))\n",
    "metsmods_template_txt = re.sub(r\"%(\\w+)%\", r\"${\\1}\", metsmods_template_path.read_text(encoding=\"utf-8\"))\n",
    "# Load above variables as Templates here..."
   ]
  },
  {
   "cell_type": "markdown",
   "metadata": {},
   "source": [
    "### Reserve Zenodo Record with Test Data\n",
    "\n",
    "In order to retrieve persistent identifiers for our XMLs, we need to reserve a Zenodo Record with a DOI and links to the files. We will use a 3D model and a thumbnail as test data, but in order to reduce the amount of requests, the upload process will be done at a later stage (when the XMLs were generated):"
   ]
  },
  {
   "cell_type": "code",
   "execution_count": 4,
   "metadata": {},
   "outputs": [],
   "source": [
    "# Define Zenodo Metadata\n",
    "zenodo_metadata = {\n",
    "    \"metadata\": {\n",
    "        \"title\": \"Test 3D Model\",\n",
    "        \"description\": \"Test Model\",\n",
    "        \"upload_type\": \"other\",\n",
    "        \"publication_date\": datetime.now().strftime(\"%Y-%m-%d\"),\n",
    "        \"access_right\": \"open\",\n",
    "        \"license\": \"cc-by\",\n",
    "        \"version\": \"0.0.1\",\n",
    "        \"keywords\": [\"3D model\", \"tutorial\"],\n",
    "        \"creators\": [{\"name\": \"Doe, John\", \"affiliation\": \"Tutorial University\",}]   \n",
    "    }\n",
    "}\n",
    "\n",
    "assert not validate_zenodo_metadata(zenodo_metadata), \"Metadata invalid.\"\n",
    "\n",
    "# Reserve Zenodo Record\n",
    "create_msg, create_data = create_record(zenodo_metadata)\n",
    "assert create_msg[\"success\"], f\"Could not create Record: {create_msg['text']}\"\n",
    "concept_recid = create_data[\"conceptrecid\"]\n",
    "record_id = create_data[\"id\"]\n",
    "\n",
    "# Define Filepaths\n",
    "glb_path = Path(\"Tutorials/3DModels/test_model.glb\")\n",
    "glb_filename = glb_path.name\n",
    "thumbnail_path = Path(\"Tutorials/Thumbnails/test_model_perspective_4.png\")\n",
    "thumbnail_filename = thumbnail_path.name\n",
    "filepaths = [glb_path, thumbnail_path]\n",
    "\n",
    "# Construct Links before Upload\n",
    "record_link = create_data[\"links\"][\"html\"]\n",
    "glb_link = f\"https://sandbox.zenodo.org/api/records/{record_id}/files/{glb_filename}/content\"\n",
    "thumbnail_link = f\"https://sandbox.zenodo.org/api/records/{record_id}/files/{thumbnail_filename}/content\""
   ]
  },
  {
   "cell_type": "markdown",
   "metadata": {},
   "source": [
    "### EDM Mapping\n",
    "\n",
    "Now, let's define the data that should be inserted into the template:"
   ]
  },
  {
   "cell_type": "code",
   "execution_count": null,
   "metadata": {},
   "outputs": [],
   "source": [
    "# Set current date timestamp\n",
    "date_created = datetime.now(timezone.utc).strftime(\"%Y-%m-%dT%H:%M:%SZ\")\n",
    "\n",
    "# Define EDM data for substitution\n",
    "edm_data = {\n",
    "    'edm_providedCHO': '12345',\n",
    "    'dc_creator': 'John Doe',\n",
    "    'dc_description': 'This is a test 3D model.',\n",
    "    'dc_format': 'gLTF',\n",
    "    'dc_identifier': '12345',\n",
    "    'dc_language': 'English',\n",
    "    'dc_type': '3D',\n",
    "    'dc_title': 'My test 3D Model',\n",
    "    'dc_subject': 'Architecture',\n",
    "    'dc_isPartOf': 'Test Project',\n",
    "    'dc_spatial': '12345/place',\n",
    "    'edm_type': '3D',\n",
    "    'edm_webresource': record_link,\n",
    "    'dcterms_created': date_created,\n",
    "    'edm_place': '12345/place',\n",
    "    'wgs84_lat': '50.928788',\n",
    "    'wgs84_lon': '11.584776',\n",
    "    'skos_prefLabel': 'Jena',\n",
    "    'ore_aggregation': '12345/ORE',\n",
    "    'edm_aggregatedCHO': '12345',\n",
    "    'edm_dataProvider': 'Test Data Provider',\n",
    "    'edm_isShownBy': glb_link,\n",
    "    'edm_object': thumbnail_link,\n",
    "    'edm_provider': 'Test EDM Provider',\n",
    "    'edm_rights': 'http://creativecommons.org/licenses/by/4.0/'\n",
    "}\n",
    "\n",
    "# (load XML again in case of template modifications)\n",
    "edm_template = Template(edm_template_path.read_text(encoding=\"utf-8\"))\n",
    "\n",
    "# Substitute Variables by edm_data\n",
    "edm_xml_string = edm_template.substitute(edm_data)\n",
    "\n",
    "# Write XML file and add path to filepaths for upload\n",
    "edm_xml_filepath = Path(\"Tutorials/XMLs/mapped_edm.xml\")\n",
    "edm_xml_filepath.write_text(edm_xml_string, encoding='utf-8')\n",
    "filepaths.append(edm_xml_filepath) if not edm_xml_filepath in filepaths else None\n",
    "print(edm_xml_string)"
   ]
  },
  {
   "cell_type": "markdown",
   "metadata": {},
   "source": [
    "### Validate EDM XML\n",
    "\n",
    "Now we should validate the generated EDM XML against the [latest EDM XML schema](https://github.com/europeana/metis-schema/tree/master/src/main/resources/schema_xsds); we can use the XML string or the file itself.\n",
    "<br>**Attention!** There are some intentional errors in the template, which we will try to fix in order to learn more about the validator:"
   ]
  },
  {
   "cell_type": "code",
   "execution_count": null,
   "metadata": {},
   "outputs": [],
   "source": [
    "# Define path to EDM validation schema\n",
    "edm_xsd_path = \"Templates/EDM_Schemas/EDM.xsd\"\n",
    "\n",
    "# (load XML string again in case of template modifications)\n",
    "edm_template = Template(edm_template_path.read_text(encoding=\"utf-8\"))\n",
    "edm_xml_string = edm_template.substitute(edm_data)\n",
    "\n",
    "# Validate EDM XML string\n",
    "validate_edm_xml(xsd_path=edm_xsd_path, xml_string=edm_xml_string)"
   ]
  },
  {
   "cell_type": "markdown",
   "metadata": {},
   "source": [
    "Based on these validation errors, we are quite sure that our [template](../Templates/tutorial_template_edm.xml) is incorrect, so we would need to do the following:\n",
    "1. In lines 42 and 43, remove \" \" from the placeholder.\n",
    "2. In line 47, replace `rdf:resource` with `rdf:about`.\n",
    "3. Run the above two cells again and enjoy the valid EDM XML!"
   ]
  },
  {
   "cell_type": "markdown",
   "metadata": {},
   "source": [
    "### METS/MODS Mapping\n",
    "\n",
    "Now, let's apply the same logic for METS/MODS XML:"
   ]
  },
  {
   "cell_type": "code",
   "execution_count": null,
   "metadata": {},
   "outputs": [],
   "source": [
    "metsmods_data = {\n",
    "    'mods_title': '3D Test Model',\n",
    "    'mods_person_displayForm': 'Tutorial Project',\n",
    "    'mods_role_personal': 'aut',\n",
    "    'mods_corporate_displayForm': 'Tutorial Project',\n",
    "    'mods_role_corporate': 'prv',\n",
    "    'mods_physicalLocation': 'Jena',\n",
    "    'mods_license': 'CC-BY',\n",
    "    'mods_recordInfoNote': 'tutorial',\n",
    "    'dv_owner': 'Tutorial Repository',\n",
    "    'dv_ownerLogo': 'https://www.gw.uni-jena.de/phifakmedia/30480/bg-human-digital.png',\n",
    "    'dv_ownerSiteURL': 'https://www.gw.uni-jena.de/en/8465/juniorprofessur-fuer-digital-humanities',\n",
    "    'dv_ownerContact': 'https://link.to/contactPage',\n",
    "    'mets_fileMimetype': 'model/gltf-binary',\n",
    "    'mets_fileLink': glb_link,\n",
    "    'mets_thumbMimetype': 'image/png',\n",
    "    'mets_thumbLink': thumbnail_link\n",
    "}\n",
    "\n",
    "# (load XML again in case of template modifications)\n",
    "metsmods_template = Template(metsmods_template_path.read_text(encoding=\"utf-8\"))\n",
    "\n",
    "# Substitute Variables by metsmods_data\n",
    "metsmods_xml_string = metsmods_template.substitute(metsmods_data)\n",
    "\n",
    "# Write XML file and add path to filepaths for upload\n",
    "metsmods_xml_filepath = Path(\"Tutorials/XMLs/mapped_metsmods.xml\")\n",
    "metsmods_xml_filepath.write_text(metsmods_xml_string, encoding='utf-8')\n",
    "filepaths.append(metsmods_xml_filepath) if not metsmods_xml_filepath in filepaths else None\n",
    "print(metsmods_xml_string)"
   ]
  },
  {
   "cell_type": "markdown",
   "metadata": {},
   "source": [
    "### Validate METS/MODS XML\n",
    "\n",
    "Validate the (in this case correct) template against the [Mets](https://www.loc.gov/standards/mets/) and [Mods](https://www.loc.gov/standards/mods/) XML Schemas, both provided by the Library of Congress (LoC)."
   ]
  },
  {
   "cell_type": "code",
   "execution_count": null,
   "metadata": {},
   "outputs": [],
   "source": [
    "# Define Paths to validation files\n",
    "mets_xsd_path = \"Templates/MetsMods_Schemas/mets.xsd\"\n",
    "mods_xsd_path = \"Templates/MetsMods_Schemas/mods.xsd\"\n",
    "\n",
    "# Validate METS/MODS XML string\n",
    "validate_metsmods(mets_xsd_path, mods_xsd_path, xml_string=metsmods_xml_string)"
   ]
  },
  {
   "cell_type": "markdown",
   "metadata": {},
   "source": [
    "### Upload Files & Publish Record\n",
    "\n",
    "Now that we have generated the XMLs, let's upload everything with the GLB file and thumbnail!"
   ]
  },
  {
   "cell_type": "code",
   "execution_count": null,
   "metadata": {},
   "outputs": [],
   "source": [
    "files_msg, files_data = upload_files_into_deposition(create_data, filepaths)\n",
    "assert files_msg[\"success\"], f\"Error uploading files: {files_msg['text']}\"\n",
    "\n",
    "publish_msg, publish_data = publish_record(create_data)\n",
    "assert publish_msg[\"success\"], f\"Error publishing Record: {files_msg['text']}\"\n",
    "\n",
    "print(f\"Zenodo Record published at: {publish_data['links']['html']}\")"
   ]
  }
 ],
 "metadata": {
  "kernelspec": {
   "display_name": "Python 3",
   "language": "python",
   "name": "python3"
  },
  "language_info": {
   "codemirror_mode": {
    "name": "ipython",
    "version": 3
   },
   "file_extension": ".py",
   "mimetype": "text/x-python",
   "name": "python",
   "nbconvert_exporter": "python",
   "pygments_lexer": "ipython3",
   "version": "3.10.13"
  }
 },
 "nbformat": 4,
 "nbformat_minor": 4
}
