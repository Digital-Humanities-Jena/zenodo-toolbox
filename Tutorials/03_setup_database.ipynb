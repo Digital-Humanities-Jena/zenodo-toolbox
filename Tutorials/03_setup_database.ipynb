{
 "cells": [
  {
   "cell_type": "markdown",
   "metadata": {},
   "source": [
    "# Zenodo Toolbox: Database Integration (SQLite)\n",
    "\n",
    "This notebook demonstrates how to integrate a SQLite database with the Zenodo Toolbox with a preset structure. We'll use the database to store and manage information about Zenodo records, making it easier to track and query our data submissions. Most database operations are handled automatically by those functions that are interacting with Zenodo, but in order to provide some knowledge to customize the toolbox for individual projects, this Notebooks helps to understand the underlying processes.\n",
    "\n",
    "## Database Configuration\n",
    "\n",
    "We're using SQLite as our database engine. The configuration is defined in a YAML file, which specifies:\n",
    "\n",
    "- Database type (local SQLite)\n",
    "- Database file path\n",
    "- Table structures\n",
    "- Indexes and foreign key relationships\n",
    "\n",
    "Key aspects of our database structure:\n",
    "\n",
    "1. **Records**: Stores main record information (concept_recid, title, DOI, etc.)\n",
    "2. **Links**: Contains various URLs associated with each record\n",
    "3. **Mainfiles**: Tracks files uploaded to each record\n",
    "4. **States**: Keeps track of availability status for different record components\n",
    "5. **Thumbnails**: Stores links to thumbnail images at various resolutions\n",
    "6. **Responses**: Saves raw JSON responses from Zenodo API calls\n",
    "7. **Rate Limiter**: Helps manage API request frequency\n",
    "8. **Operations**: Logs operations performed on records\n",
    "\n",
    "## Database Integration Steps\n",
    "\n",
    "1. **Initialize Database Connection**: We'll create a connection to our SQLite database using the configuration from our YAML file.\n",
    "\n",
    "2. **Create Tables**: If they don't exist, we'll create the necessary tables as defined in our configuration.\n",
    "\n",
    "3. **Insert/Update Records**: As we interact with Zenodo (creating drafts, uploading files, publishing records), we'll store the relevant information in our database.\n",
    "\n",
    "4. **Query Data**: We'll demonstrate how to retrieve information from our database, allowing for easy tracking and management of our Zenodo submissions.\n",
    "\n",
    "## Benefits of Database Integration\n",
    "\n",
    "- **Decentralized Data Access**: Maintain a local record of all Zenodo interactions\n",
    "- **Efficient Querying**: Quickly find and analyze your Zenodo submissions\n",
    "- **Version Tracking**: Keep track of the status and versions of each record and its components\n",
    "- **Performance**: Reduce the need for frequent API calls by storing data locally\n",
    "\n",
    "Let's start by initializing our database connection and creating the necessary tables.\n"
   ]
  },
  {
   "cell_type": "code",
   "execution_count": null,
   "metadata": {},
   "outputs": [],
   "source": [
    "import os\n",
    "from pathlib import Path\n",
    "\n",
    "os.chdir(Path().absolute().parent) if Path().absolute().name == \"Tutorials\" else None\n",
    "from utilities import load_config, load_json\n",
    "from db_tools import clear_operations_by_status, get_row, initialize_db, print_table, upsert_operation, upsert_published_data\n",
    "\n",
    "# Load DB configuration and change path to DB\n",
    "db_config = load_config(\"Configs/db_config.yaml\")\n",
    "db_path = \"Tutorials/sandbox.db\"\n",
    "db_config[\"local_db_path\"] = db_path\n",
    "\n",
    "print(f\"Configuration loaded. DB will be initialized at: {db_path}\")"
   ]
  },
  {
   "cell_type": "markdown",
   "metadata": {},
   "source": [
    "## Initialize Database Connection\n",
    "\n",
    "Now, let's initialize our database connection. This function will create the database if it doesn't exist, or connect to an existing one."
   ]
  },
  {
   "cell_type": "code",
   "execution_count": null,
   "metadata": {},
   "outputs": [],
   "source": [
    "db_connection = initialize_db(db_config)\n",
    "if db_connection:\n",
    "    print(\"Database connection initialized successfully.\")\n",
    "else:\n",
    "    print(\"Failed to initialize database.\")\n"
   ]
  },
  {
   "cell_type": "markdown",
   "metadata": {},
   "source": [
    "This should have created a database at the path given in db_path."
   ]
  },
  {
   "cell_type": "markdown",
   "metadata": {},
   "source": [
    "## Database Operations\n",
    "\n",
    "Let's demonstrate some common database operations using our custom functions.\n",
    "\n",
    "### 1. Inserting a New Operation\n"
   ]
  },
  {
   "cell_type": "code",
   "execution_count": null,
   "metadata": {},
   "outputs": [],
   "source": [
    "zenodo_response_data = load_json(\"Tutorials/Output/sandbox_drafts.json\")[-1] # catch the latest response data\n",
    "\n",
    "operation_result = upsert_operation(db_connection, \"new_record_created\", zenodo_response_data)\n",
    "print(f\"Operation insert successful: {operation_result}\")\n"
   ]
  },
  {
   "cell_type": "markdown",
   "metadata": {},
   "source": [
    "### 2. Updating Published Data\n"
   ]
  },
  {
   "cell_type": "code",
   "execution_count": null,
   "metadata": {},
   "outputs": [],
   "source": [
    "from utilities import get_thumbnails, is_edm_available, is_metsmods_available\n",
    "\n",
    "file_response_data = load_json(\"Tutorials/Output/sandbox_files.json\")[-1]\n",
    "thumbnails_data = get_thumbnails(file_response_data)\n",
    "additional_data = {\n",
    "    \"type\": \"image\",\n",
    "    \"subset\": \"project_sandbox\",\n",
    "    \"changelogs\": {},\n",
    "    \"filedata\": file_response_data,\n",
    "    \"thumbnails_data\": thumbnails_data,\n",
    "    \"edm_available\": is_edm_available(file_response_data),\n",
    "    \"metsmods_available\": is_metsmods_available(file_response_data),\n",
    "    \"thumbnails_available\": True if thumbnails_data else False,\n",
    "}\n",
    "\n",
    "published_data = load_json(\"Tutorials/Output/sandbox_published.json\")[-1]\n",
    "\n",
    "publish_result = upsert_published_data(db_connection, published_data, additional_data)\n",
    "print(f\"Publish data upsert successful: {publish_result}\")\n"
   ]
  },
  {
   "cell_type": "markdown",
   "metadata": {},
   "source": [
    "### 3. View Database Entries of each Table\n",
    "\n",
    "Let's have a look at what has been written into the database so far:"
   ]
  },
  {
   "cell_type": "code",
   "execution_count": null,
   "metadata": {},
   "outputs": [],
   "source": [
    "for table_name in [list(i.keys())[0] for i in db_config[\"db_structures\"][\"tables\"]]:\n",
    "    print(f\"{table_name}:\")\n",
    "    print_table(db_connection, table_name)"
   ]
  },
  {
   "cell_type": "markdown",
   "metadata": {},
   "source": [
    "### 4. Update existing Operation\n",
    "\n",
    "As you can see in the last table \"operations\", we did not update it as published, it still remains with the status \"draft\". If we use this function, we can update the status:"
   ]
  },
  {
   "cell_type": "code",
   "execution_count": null,
   "metadata": {},
   "outputs": [],
   "source": [
    "operation_result = upsert_operation(db_connection, \"published\", published_data)\n",
    "print(f\"Operation insert successful: {operation_result}\")\n",
    "\n",
    "print_table(db_connection, \"operations\")"
   ]
  },
  {
   "cell_type": "markdown",
   "metadata": {},
   "source": [
    "### 5. Clearing Published Operations\n",
    "\n",
    "Now that the status is \"published\", it is not necessary to keep it in the current operations table, so we can clear it by providing the Concept Record IDs:"
   ]
  },
  {
   "cell_type": "code",
   "execution_count": null,
   "metadata": {},
   "outputs": [],
   "source": [
    "clear_result = clear_operations_by_status(db_connection, \"published\", [published_data[\"conceptdoi\"]])\n",
    "print(f\"Clear published operations result: {clear_result}\")\n",
    "\n",
    "print_table(db_connection, \"operations\")"
   ]
  },
  {
   "cell_type": "markdown",
   "metadata": {},
   "source": [
    "If you want to clear all entries with the status 'published', just leave out the list with Concept Record IDs:"
   ]
  },
  {
   "cell_type": "code",
   "execution_count": null,
   "metadata": {},
   "outputs": [],
   "source": [
    "clear_result = clear_operations_by_status(db_connection, \"published\")\n",
    "print(f\"Clear published operations result: {clear_result}\")\n",
    "\n",
    "print_table(db_connection, \"operations\")"
   ]
  },
  {
   "cell_type": "markdown",
   "metadata": {},
   "source": [
    "<small>\n",
    "Note: Change \"published\" to \"draft\" if you want to remove the drafts from operations table.\n",
    "</small>"
   ]
  },
  {
   "cell_type": "markdown",
   "metadata": {},
   "source": [
    "## Query Results\n",
    "\n",
    "Now we can retrieve some essential data from the local database in our preferred structure instead of querying Zenodo.\n",
    "\n",
    "<small>\n",
    "\n",
    "Note: Querying your uploaded Zenodo records seems to be limited to 10.000 records (20.000 with a reverse trick).\n",
    "\n",
    "</small>\n",
    "\n",
    "Let's start with retrieving the persistent direct link for the test_image_2.png:"
   ]
  },
  {
   "cell_type": "code",
   "execution_count": null,
   "metadata": {},
   "outputs": [],
   "source": [
    "published_data = load_json(\"Tutorials/Output/sandbox_published.json\")[-1]\n",
    "concept_recid = published_data[\"conceptrecid\"]\n",
    "row_data = get_row(db_connection, \"mainfiles\", \"concept_recid\", concept_recid, print_result=True)\n",
    "print(f'Persistent Direct Link to {row_data[\"filename\"]}: {row_data[\"direct_link\"]}')"
   ]
  },
  {
   "cell_type": "markdown",
   "metadata": {},
   "source": [
    "## Closing the Database Connection\n",
    "\n",
    "Always remember to close the database connection when you're done.\n"
   ]
  },
  {
   "cell_type": "code",
   "execution_count": null,
   "metadata": {},
   "outputs": [],
   "source": [
    "db_connection.close()\n",
    "print(\"Database connection closed.\")\n"
   ]
  },
  {
   "cell_type": "markdown",
   "metadata": {},
   "source": [
    "This notebook demonstrates the basic operations of creating a database connection, inserting and updating records, and querying the database. In a real-world scenario, you would integrate these operations with your Zenodo API calls and file processing logic.\n",
    "\n",
    "Remember to handle exceptions and add more detailed error checking in a production environment. Also, consider implementing connection pooling and more advanced querying techniques for larger-scale applications.\n"
   ]
  }
 ],
 "metadata": {
  "kernelspec": {
   "display_name": "Python 3",
   "language": "python",
   "name": "python3"
  },
  "language_info": {
   "codemirror_mode": {
    "name": "ipython",
    "version": 3
   },
   "file_extension": ".py",
   "mimetype": "text/x-python",
   "name": "python",
   "nbconvert_exporter": "python",
   "pygments_lexer": "ipython3",
   "version": "3.10.14"
  }
 },
 "nbformat": 4,
 "nbformat_minor": 4
}
